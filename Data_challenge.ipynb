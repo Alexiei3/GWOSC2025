{
  "cells": [
    {
      "cell_type": "markdown",
      "metadata": {
        "id": "view-in-github",
        "colab_type": "text"
      },
      "source": [
        "<a href=\"https://colab.research.google.com/github/Alexiei3/GWOSC2025/blob/main/Data_challenge.ipynb\" target=\"_parent\"><img src=\"https://colab.research.google.com/assets/colab-badge.svg\" alt=\"Open In Colab\"/></a>"
      ]
    },
    {
      "cell_type": "code",
      "execution_count": 4,
      "metadata": {
        "colab": {
          "base_uri": "https://localhost:8080/",
          "height": 356
        },
        "id": "AcAom55ddzRx",
        "outputId": "9fc6a9cc-3194-4046-d56c-0e87bfa0d57e"
      },
      "outputs": [
        {
          "output_type": "error",
          "ename": "KeyboardInterrupt",
          "evalue": "",
          "traceback": [
            "\u001b[0;31m---------------------------------------------------------------------------\u001b[0m",
            "\u001b[0;31mKeyboardInterrupt\u001b[0m                         Traceback (most recent call last)",
            "\u001b[0;32m/tmp/ipython-input-4-3570912273.py\u001b[0m in \u001b[0;36m<cell line: 0>\u001b[0;34m()\u001b[0m\n\u001b[0;32m----> 1\u001b[0;31m \u001b[0mget_ipython\u001b[0m\u001b[0;34m(\u001b[0m\u001b[0;34m)\u001b[0m\u001b[0;34m.\u001b[0m\u001b[0msystem\u001b[0m\u001b[0;34m(\u001b[0m\u001b[0;34m' pip install -q lalsuite'\u001b[0m\u001b[0;34m)\u001b[0m\u001b[0;34m\u001b[0m\u001b[0;34m\u001b[0m\u001b[0m\n\u001b[0m\u001b[1;32m      2\u001b[0m \u001b[0mget_ipython\u001b[0m\u001b[0;34m(\u001b[0m\u001b[0;34m)\u001b[0m\u001b[0;34m.\u001b[0m\u001b[0msystem\u001b[0m\u001b[0;34m(\u001b[0m\u001b[0;34m' pip install -q gwpy'\u001b[0m\u001b[0;34m)\u001b[0m\u001b[0;34m\u001b[0m\u001b[0;34m\u001b[0m\u001b[0m\n\u001b[1;32m      3\u001b[0m \u001b[0mget_ipython\u001b[0m\u001b[0;34m(\u001b[0m\u001b[0;34m)\u001b[0m\u001b[0;34m.\u001b[0m\u001b[0msystem\u001b[0m\u001b[0;34m(\u001b[0m\u001b[0;34m' pip install -q pycbc'\u001b[0m\u001b[0;34m)\u001b[0m\u001b[0;34m\u001b[0m\u001b[0;34m\u001b[0m\u001b[0m\n\u001b[1;32m      4\u001b[0m \u001b[0;31m# -- Click \"restart runtime\" in the runtime menu\u001b[0m\u001b[0;34m\u001b[0m\u001b[0;34m\u001b[0m\u001b[0m\n\u001b[1;32m      5\u001b[0m \u001b[0;34m\u001b[0m\u001b[0m\n",
            "\u001b[0;32m/usr/local/lib/python3.11/dist-packages/google/colab/_shell.py\u001b[0m in \u001b[0;36msystem\u001b[0;34m(self, *args, **kwargs)\u001b[0m\n\u001b[1;32m    150\u001b[0m \u001b[0;34m\u001b[0m\u001b[0m\n\u001b[1;32m    151\u001b[0m     \u001b[0;32mif\u001b[0m \u001b[0mpip_warn\u001b[0m\u001b[0;34m:\u001b[0m\u001b[0;34m\u001b[0m\u001b[0;34m\u001b[0m\u001b[0m\n\u001b[0;32m--> 152\u001b[0;31m       \u001b[0m_pip\u001b[0m\u001b[0;34m.\u001b[0m\u001b[0mprint_previous_import_warning\u001b[0m\u001b[0;34m(\u001b[0m\u001b[0moutput\u001b[0m\u001b[0;34m)\u001b[0m\u001b[0;34m\u001b[0m\u001b[0;34m\u001b[0m\u001b[0m\n\u001b[0m\u001b[1;32m    153\u001b[0m \u001b[0;34m\u001b[0m\u001b[0m\n\u001b[1;32m    154\u001b[0m   \u001b[0;32mdef\u001b[0m \u001b[0m_send_error\u001b[0m\u001b[0;34m(\u001b[0m\u001b[0mself\u001b[0m\u001b[0;34m,\u001b[0m \u001b[0mexc_content\u001b[0m\u001b[0;34m)\u001b[0m\u001b[0;34m:\u001b[0m\u001b[0;34m\u001b[0m\u001b[0;34m\u001b[0m\u001b[0m\n",
            "\u001b[0;32m/usr/local/lib/python3.11/dist-packages/google/colab/_pip.py\u001b[0m in \u001b[0;36mprint_previous_import_warning\u001b[0;34m(output)\u001b[0m\n\u001b[1;32m     54\u001b[0m \u001b[0;32mdef\u001b[0m \u001b[0mprint_previous_import_warning\u001b[0m\u001b[0;34m(\u001b[0m\u001b[0moutput\u001b[0m\u001b[0;34m)\u001b[0m\u001b[0;34m:\u001b[0m\u001b[0;34m\u001b[0m\u001b[0;34m\u001b[0m\u001b[0m\n\u001b[1;32m     55\u001b[0m   \u001b[0;34m\"\"\"Prints a warning about previously imported packages.\"\"\"\u001b[0m\u001b[0;34m\u001b[0m\u001b[0;34m\u001b[0m\u001b[0m\n\u001b[0;32m---> 56\u001b[0;31m   \u001b[0mpackages\u001b[0m \u001b[0;34m=\u001b[0m \u001b[0m_previously_imported_packages\u001b[0m\u001b[0;34m(\u001b[0m\u001b[0moutput\u001b[0m\u001b[0;34m)\u001b[0m\u001b[0;34m\u001b[0m\u001b[0;34m\u001b[0m\u001b[0m\n\u001b[0m\u001b[1;32m     57\u001b[0m   \u001b[0;32mif\u001b[0m \u001b[0mpackages\u001b[0m\u001b[0;34m:\u001b[0m\u001b[0;34m\u001b[0m\u001b[0;34m\u001b[0m\u001b[0m\n\u001b[1;32m     58\u001b[0m     \u001b[0;31m# display a list of packages using the colab-display-data mimetype, which\u001b[0m\u001b[0;34m\u001b[0m\u001b[0;34m\u001b[0m\u001b[0m\n",
            "\u001b[0;32m/usr/local/lib/python3.11/dist-packages/google/colab/_pip.py\u001b[0m in \u001b[0;36m_previously_imported_packages\u001b[0;34m(pip_output)\u001b[0m\n\u001b[1;32m     48\u001b[0m \u001b[0;32mdef\u001b[0m \u001b[0m_previously_imported_packages\u001b[0m\u001b[0;34m(\u001b[0m\u001b[0mpip_output\u001b[0m\u001b[0;34m)\u001b[0m\u001b[0;34m:\u001b[0m\u001b[0;34m\u001b[0m\u001b[0;34m\u001b[0m\u001b[0m\n\u001b[1;32m     49\u001b[0m   \u001b[0;34m\"\"\"List all previously imported packages from a pip install.\"\"\"\u001b[0m\u001b[0;34m\u001b[0m\u001b[0;34m\u001b[0m\u001b[0m\n\u001b[0;32m---> 50\u001b[0;31m   \u001b[0minstalled\u001b[0m \u001b[0;34m=\u001b[0m \u001b[0mset\u001b[0m\u001b[0;34m(\u001b[0m\u001b[0m_extract_toplevel_packages\u001b[0m\u001b[0;34m(\u001b[0m\u001b[0mpip_output\u001b[0m\u001b[0;34m)\u001b[0m\u001b[0;34m)\u001b[0m\u001b[0;34m\u001b[0m\u001b[0;34m\u001b[0m\u001b[0m\n\u001b[0m\u001b[1;32m     51\u001b[0m   \u001b[0;32mreturn\u001b[0m \u001b[0msorted\u001b[0m\u001b[0;34m(\u001b[0m\u001b[0minstalled\u001b[0m\u001b[0;34m.\u001b[0m\u001b[0mintersection\u001b[0m\u001b[0;34m(\u001b[0m\u001b[0mset\u001b[0m\u001b[0;34m(\u001b[0m\u001b[0msys\u001b[0m\u001b[0;34m.\u001b[0m\u001b[0mmodules\u001b[0m\u001b[0;34m)\u001b[0m\u001b[0;34m)\u001b[0m\u001b[0;34m)\u001b[0m\u001b[0;34m\u001b[0m\u001b[0;34m\u001b[0m\u001b[0m\n\u001b[1;32m     52\u001b[0m \u001b[0;34m\u001b[0m\u001b[0m\n",
            "\u001b[0;32m/usr/local/lib/python3.11/dist-packages/google/colab/_pip.py\u001b[0m in \u001b[0;36m_extract_toplevel_packages\u001b[0;34m(pip_output)\u001b[0m\n\u001b[1;32m     37\u001b[0m   \u001b[0;34m\"\"\"Extract the list of toplevel packages associated with a pip install.\"\"\"\u001b[0m\u001b[0;34m\u001b[0m\u001b[0;34m\u001b[0m\u001b[0m\n\u001b[1;32m     38\u001b[0m   \u001b[0mtoplevel\u001b[0m \u001b[0;34m=\u001b[0m \u001b[0mcollections\u001b[0m\u001b[0;34m.\u001b[0m\u001b[0mdefaultdict\u001b[0m\u001b[0;34m(\u001b[0m\u001b[0mset\u001b[0m\u001b[0;34m)\u001b[0m\u001b[0;34m\u001b[0m\u001b[0;34m\u001b[0m\u001b[0m\n\u001b[0;32m---> 39\u001b[0;31m   \u001b[0;32mfor\u001b[0m \u001b[0mm\u001b[0m\u001b[0;34m,\u001b[0m \u001b[0mps\u001b[0m \u001b[0;32min\u001b[0m \u001b[0mimportlib\u001b[0m\u001b[0;34m.\u001b[0m\u001b[0mmetadata\u001b[0m\u001b[0;34m.\u001b[0m\u001b[0mpackages_distributions\u001b[0m\u001b[0;34m(\u001b[0m\u001b[0;34m)\u001b[0m\u001b[0;34m.\u001b[0m\u001b[0mitems\u001b[0m\u001b[0;34m(\u001b[0m\u001b[0;34m)\u001b[0m\u001b[0;34m:\u001b[0m\u001b[0;34m\u001b[0m\u001b[0;34m\u001b[0m\u001b[0m\n\u001b[0m\u001b[1;32m     40\u001b[0m     \u001b[0;32mfor\u001b[0m \u001b[0mp\u001b[0m \u001b[0;32min\u001b[0m \u001b[0mps\u001b[0m\u001b[0;34m:\u001b[0m\u001b[0;34m\u001b[0m\u001b[0;34m\u001b[0m\u001b[0m\n\u001b[1;32m     41\u001b[0m       \u001b[0mtoplevel\u001b[0m\u001b[0;34m[\u001b[0m\u001b[0mp\u001b[0m\u001b[0;34m]\u001b[0m\u001b[0;34m.\u001b[0m\u001b[0madd\u001b[0m\u001b[0;34m(\u001b[0m\u001b[0mm\u001b[0m\u001b[0;34m)\u001b[0m\u001b[0;34m\u001b[0m\u001b[0;34m\u001b[0m\u001b[0m\n",
            "\u001b[0;32m/usr/lib/python3.11/importlib/metadata/__init__.py\u001b[0m in \u001b[0;36mpackages_distributions\u001b[0;34m()\u001b[0m\n\u001b[1;32m   1074\u001b[0m     \u001b[0;32mfor\u001b[0m \u001b[0mdist\u001b[0m \u001b[0;32min\u001b[0m \u001b[0mdistributions\u001b[0m\u001b[0;34m(\u001b[0m\u001b[0;34m)\u001b[0m\u001b[0;34m:\u001b[0m\u001b[0;34m\u001b[0m\u001b[0;34m\u001b[0m\u001b[0m\n\u001b[1;32m   1075\u001b[0m         \u001b[0;32mfor\u001b[0m \u001b[0mpkg\u001b[0m \u001b[0;32min\u001b[0m \u001b[0m_top_level_declared\u001b[0m\u001b[0;34m(\u001b[0m\u001b[0mdist\u001b[0m\u001b[0;34m)\u001b[0m \u001b[0;32mor\u001b[0m \u001b[0m_top_level_inferred\u001b[0m\u001b[0;34m(\u001b[0m\u001b[0mdist\u001b[0m\u001b[0;34m)\u001b[0m\u001b[0;34m:\u001b[0m\u001b[0;34m\u001b[0m\u001b[0;34m\u001b[0m\u001b[0m\n\u001b[0;32m-> 1076\u001b[0;31m             \u001b[0mpkg_to_dist\u001b[0m\u001b[0;34m[\u001b[0m\u001b[0mpkg\u001b[0m\u001b[0;34m]\u001b[0m\u001b[0;34m.\u001b[0m\u001b[0mappend\u001b[0m\u001b[0;34m(\u001b[0m\u001b[0mdist\u001b[0m\u001b[0;34m.\u001b[0m\u001b[0mmetadata\u001b[0m\u001b[0;34m[\u001b[0m\u001b[0;34m'Name'\u001b[0m\u001b[0;34m]\u001b[0m\u001b[0;34m)\u001b[0m\u001b[0;34m\u001b[0m\u001b[0;34m\u001b[0m\u001b[0m\n\u001b[0m\u001b[1;32m   1077\u001b[0m     \u001b[0;32mreturn\u001b[0m \u001b[0mdict\u001b[0m\u001b[0;34m(\u001b[0m\u001b[0mpkg_to_dist\u001b[0m\u001b[0;34m)\u001b[0m\u001b[0;34m\u001b[0m\u001b[0;34m\u001b[0m\u001b[0m\n\u001b[1;32m   1078\u001b[0m \u001b[0;34m\u001b[0m\u001b[0m\n",
            "\u001b[0;32m/usr/local/lib/python3.11/dist-packages/importlib_metadata/__init__.py\u001b[0m in \u001b[0;36mmetadata\u001b[0;34m(self)\u001b[0m\n\u001b[1;32m    532\u001b[0m             \u001b[0;32mor\u001b[0m \u001b[0mself\u001b[0m\u001b[0;34m.\u001b[0m\u001b[0mread_text\u001b[0m\u001b[0;34m(\u001b[0m\u001b[0;34m''\u001b[0m\u001b[0;34m)\u001b[0m\u001b[0;34m\u001b[0m\u001b[0;34m\u001b[0m\u001b[0m\n\u001b[1;32m    533\u001b[0m         )\n\u001b[0;32m--> 534\u001b[0;31m         \u001b[0;32mreturn\u001b[0m \u001b[0mself\u001b[0m\u001b[0;34m.\u001b[0m\u001b[0m_assemble_message\u001b[0m\u001b[0;34m(\u001b[0m\u001b[0mtext\u001b[0m\u001b[0;34m)\u001b[0m\u001b[0;34m\u001b[0m\u001b[0;34m\u001b[0m\u001b[0m\n\u001b[0m\u001b[1;32m    535\u001b[0m \u001b[0;34m\u001b[0m\u001b[0m\n\u001b[1;32m    536\u001b[0m     \u001b[0;34m@\u001b[0m\u001b[0mstaticmethod\u001b[0m\u001b[0;34m\u001b[0m\u001b[0;34m\u001b[0m\u001b[0m\n",
            "\u001b[0;32m/usr/local/lib/python3.11/dist-packages/importlib_metadata/_functools.py\u001b[0m in \u001b[0;36mwrapper\u001b[0;34m(param, *args, **kwargs)\u001b[0m\n\u001b[1;32m    100\u001b[0m     \u001b[0;32mdef\u001b[0m \u001b[0mwrapper\u001b[0m\u001b[0;34m(\u001b[0m\u001b[0mparam\u001b[0m\u001b[0;34m,\u001b[0m \u001b[0;34m*\u001b[0m\u001b[0margs\u001b[0m\u001b[0;34m,\u001b[0m \u001b[0;34m**\u001b[0m\u001b[0mkwargs\u001b[0m\u001b[0;34m)\u001b[0m\u001b[0;34m:\u001b[0m\u001b[0;34m\u001b[0m\u001b[0;34m\u001b[0m\u001b[0m\n\u001b[1;32m    101\u001b[0m         \u001b[0;32mif\u001b[0m \u001b[0mparam\u001b[0m \u001b[0;32mis\u001b[0m \u001b[0;32mnot\u001b[0m \u001b[0;32mNone\u001b[0m\u001b[0;34m:\u001b[0m\u001b[0;34m\u001b[0m\u001b[0;34m\u001b[0m\u001b[0m\n\u001b[0;32m--> 102\u001b[0;31m             \u001b[0;32mreturn\u001b[0m \u001b[0mfunc\u001b[0m\u001b[0;34m(\u001b[0m\u001b[0mparam\u001b[0m\u001b[0;34m,\u001b[0m \u001b[0;34m*\u001b[0m\u001b[0margs\u001b[0m\u001b[0;34m,\u001b[0m \u001b[0;34m**\u001b[0m\u001b[0mkwargs\u001b[0m\u001b[0;34m)\u001b[0m\u001b[0;34m\u001b[0m\u001b[0;34m\u001b[0m\u001b[0m\n\u001b[0m\u001b[1;32m    103\u001b[0m \u001b[0;34m\u001b[0m\u001b[0m\n\u001b[1;32m    104\u001b[0m     \u001b[0;32mreturn\u001b[0m \u001b[0mwrapper\u001b[0m\u001b[0;34m\u001b[0m\u001b[0;34m\u001b[0m\u001b[0m\n",
            "\u001b[0;32m/usr/local/lib/python3.11/dist-packages/importlib_metadata/__init__.py\u001b[0m in \u001b[0;36m_assemble_message\u001b[0;34m(text)\u001b[0m\n\u001b[1;32m    540\u001b[0m         \u001b[0;32mfrom\u001b[0m \u001b[0;34m.\u001b[0m \u001b[0;32mimport\u001b[0m \u001b[0m_adapters\u001b[0m\u001b[0;34m\u001b[0m\u001b[0;34m\u001b[0m\u001b[0m\n\u001b[1;32m    541\u001b[0m \u001b[0;34m\u001b[0m\u001b[0m\n\u001b[0;32m--> 542\u001b[0;31m         \u001b[0;32mreturn\u001b[0m \u001b[0m_adapters\u001b[0m\u001b[0;34m.\u001b[0m\u001b[0mMessage\u001b[0m\u001b[0;34m(\u001b[0m\u001b[0memail\u001b[0m\u001b[0;34m.\u001b[0m\u001b[0mmessage_from_string\u001b[0m\u001b[0;34m(\u001b[0m\u001b[0mtext\u001b[0m\u001b[0;34m)\u001b[0m\u001b[0;34m)\u001b[0m\u001b[0;34m\u001b[0m\u001b[0;34m\u001b[0m\u001b[0m\n\u001b[0m\u001b[1;32m    543\u001b[0m \u001b[0;34m\u001b[0m\u001b[0m\n\u001b[1;32m    544\u001b[0m     \u001b[0;34m@\u001b[0m\u001b[0mproperty\u001b[0m\u001b[0;34m\u001b[0m\u001b[0;34m\u001b[0m\u001b[0m\n",
            "\u001b[0;32m/usr/lib/python3.11/email/__init__.py\u001b[0m in \u001b[0;36mmessage_from_string\u001b[0;34m(s, *args, **kws)\u001b[0m\n\u001b[1;32m     35\u001b[0m     \"\"\"\n\u001b[1;32m     36\u001b[0m     \u001b[0;32mfrom\u001b[0m \u001b[0memail\u001b[0m\u001b[0;34m.\u001b[0m\u001b[0mparser\u001b[0m \u001b[0;32mimport\u001b[0m \u001b[0mParser\u001b[0m\u001b[0;34m\u001b[0m\u001b[0;34m\u001b[0m\u001b[0m\n\u001b[0;32m---> 37\u001b[0;31m     \u001b[0;32mreturn\u001b[0m \u001b[0mParser\u001b[0m\u001b[0;34m(\u001b[0m\u001b[0;34m*\u001b[0m\u001b[0margs\u001b[0m\u001b[0;34m,\u001b[0m \u001b[0;34m**\u001b[0m\u001b[0mkws\u001b[0m\u001b[0;34m)\u001b[0m\u001b[0;34m.\u001b[0m\u001b[0mparsestr\u001b[0m\u001b[0;34m(\u001b[0m\u001b[0ms\u001b[0m\u001b[0;34m)\u001b[0m\u001b[0;34m\u001b[0m\u001b[0;34m\u001b[0m\u001b[0m\n\u001b[0m\u001b[1;32m     38\u001b[0m \u001b[0;34m\u001b[0m\u001b[0m\n\u001b[1;32m     39\u001b[0m \u001b[0;32mdef\u001b[0m \u001b[0mmessage_from_bytes\u001b[0m\u001b[0;34m(\u001b[0m\u001b[0ms\u001b[0m\u001b[0;34m,\u001b[0m \u001b[0;34m*\u001b[0m\u001b[0margs\u001b[0m\u001b[0;34m,\u001b[0m \u001b[0;34m**\u001b[0m\u001b[0mkws\u001b[0m\u001b[0;34m)\u001b[0m\u001b[0;34m:\u001b[0m\u001b[0;34m\u001b[0m\u001b[0;34m\u001b[0m\u001b[0m\n",
            "\u001b[0;32m/usr/lib/python3.11/email/parser.py\u001b[0m in \u001b[0;36mparsestr\u001b[0;34m(self, text, headersonly)\u001b[0m\n\u001b[1;32m     65\u001b[0m         \u001b[0mthe\u001b[0m \u001b[0mfile\u001b[0m\u001b[0;34m.\u001b[0m\u001b[0;34m\u001b[0m\u001b[0;34m\u001b[0m\u001b[0m\n\u001b[1;32m     66\u001b[0m         \"\"\"\n\u001b[0;32m---> 67\u001b[0;31m         \u001b[0;32mreturn\u001b[0m \u001b[0mself\u001b[0m\u001b[0;34m.\u001b[0m\u001b[0mparse\u001b[0m\u001b[0;34m(\u001b[0m\u001b[0mStringIO\u001b[0m\u001b[0;34m(\u001b[0m\u001b[0mtext\u001b[0m\u001b[0;34m)\u001b[0m\u001b[0;34m,\u001b[0m \u001b[0mheadersonly\u001b[0m\u001b[0;34m=\u001b[0m\u001b[0mheadersonly\u001b[0m\u001b[0;34m)\u001b[0m\u001b[0;34m\u001b[0m\u001b[0;34m\u001b[0m\u001b[0m\n\u001b[0m\u001b[1;32m     68\u001b[0m \u001b[0;34m\u001b[0m\u001b[0m\n\u001b[1;32m     69\u001b[0m \u001b[0;34m\u001b[0m\u001b[0m\n",
            "\u001b[0;32m/usr/lib/python3.11/email/parser.py\u001b[0m in \u001b[0;36mparse\u001b[0;34m(self, fp, headersonly)\u001b[0m\n\u001b[1;32m     54\u001b[0m             \u001b[0;32mif\u001b[0m \u001b[0;32mnot\u001b[0m \u001b[0mdata\u001b[0m\u001b[0;34m:\u001b[0m\u001b[0;34m\u001b[0m\u001b[0;34m\u001b[0m\u001b[0m\n\u001b[1;32m     55\u001b[0m                 \u001b[0;32mbreak\u001b[0m\u001b[0;34m\u001b[0m\u001b[0;34m\u001b[0m\u001b[0m\n\u001b[0;32m---> 56\u001b[0;31m             \u001b[0mfeedparser\u001b[0m\u001b[0;34m.\u001b[0m\u001b[0mfeed\u001b[0m\u001b[0;34m(\u001b[0m\u001b[0mdata\u001b[0m\u001b[0;34m)\u001b[0m\u001b[0;34m\u001b[0m\u001b[0;34m\u001b[0m\u001b[0m\n\u001b[0m\u001b[1;32m     57\u001b[0m         \u001b[0;32mreturn\u001b[0m \u001b[0mfeedparser\u001b[0m\u001b[0;34m.\u001b[0m\u001b[0mclose\u001b[0m\u001b[0;34m(\u001b[0m\u001b[0;34m)\u001b[0m\u001b[0;34m\u001b[0m\u001b[0;34m\u001b[0m\u001b[0m\n\u001b[1;32m     58\u001b[0m \u001b[0;34m\u001b[0m\u001b[0m\n",
            "\u001b[0;32m/usr/lib/python3.11/email/feedparser.py\u001b[0m in \u001b[0;36mfeed\u001b[0;34m(self, data)\u001b[0m\n\u001b[1;32m    172\u001b[0m         \u001b[0;34m\"\"\"Push more data into the parser.\"\"\"\u001b[0m\u001b[0;34m\u001b[0m\u001b[0;34m\u001b[0m\u001b[0m\n\u001b[1;32m    173\u001b[0m         \u001b[0mself\u001b[0m\u001b[0;34m.\u001b[0m\u001b[0m_input\u001b[0m\u001b[0;34m.\u001b[0m\u001b[0mpush\u001b[0m\u001b[0;34m(\u001b[0m\u001b[0mdata\u001b[0m\u001b[0;34m)\u001b[0m\u001b[0;34m\u001b[0m\u001b[0;34m\u001b[0m\u001b[0m\n\u001b[0;32m--> 174\u001b[0;31m         \u001b[0mself\u001b[0m\u001b[0;34m.\u001b[0m\u001b[0m_call_parse\u001b[0m\u001b[0;34m(\u001b[0m\u001b[0;34m)\u001b[0m\u001b[0;34m\u001b[0m\u001b[0;34m\u001b[0m\u001b[0m\n\u001b[0m\u001b[1;32m    175\u001b[0m \u001b[0;34m\u001b[0m\u001b[0m\n\u001b[1;32m    176\u001b[0m     \u001b[0;32mdef\u001b[0m \u001b[0m_call_parse\u001b[0m\u001b[0;34m(\u001b[0m\u001b[0mself\u001b[0m\u001b[0;34m)\u001b[0m\u001b[0;34m:\u001b[0m\u001b[0;34m\u001b[0m\u001b[0;34m\u001b[0m\u001b[0m\n",
            "\u001b[0;32m/usr/lib/python3.11/email/feedparser.py\u001b[0m in \u001b[0;36m_call_parse\u001b[0;34m(self)\u001b[0m\n\u001b[1;32m    176\u001b[0m     \u001b[0;32mdef\u001b[0m \u001b[0m_call_parse\u001b[0m\u001b[0;34m(\u001b[0m\u001b[0mself\u001b[0m\u001b[0;34m)\u001b[0m\u001b[0;34m:\u001b[0m\u001b[0;34m\u001b[0m\u001b[0;34m\u001b[0m\u001b[0m\n\u001b[1;32m    177\u001b[0m         \u001b[0;32mtry\u001b[0m\u001b[0;34m:\u001b[0m\u001b[0;34m\u001b[0m\u001b[0;34m\u001b[0m\u001b[0m\n\u001b[0;32m--> 178\u001b[0;31m             \u001b[0mself\u001b[0m\u001b[0;34m.\u001b[0m\u001b[0m_parse\u001b[0m\u001b[0;34m(\u001b[0m\u001b[0;34m)\u001b[0m\u001b[0;34m\u001b[0m\u001b[0;34m\u001b[0m\u001b[0m\n\u001b[0m\u001b[1;32m    179\u001b[0m         \u001b[0;32mexcept\u001b[0m \u001b[0mStopIteration\u001b[0m\u001b[0;34m:\u001b[0m\u001b[0;34m\u001b[0m\u001b[0;34m\u001b[0m\u001b[0m\n\u001b[1;32m    180\u001b[0m             \u001b[0;32mpass\u001b[0m\u001b[0;34m\u001b[0m\u001b[0;34m\u001b[0m\u001b[0m\n",
            "\u001b[0;32m/usr/lib/python3.11/email/feedparser.py\u001b[0m in \u001b[0;36m_parsegen\u001b[0;34m(self)\u001b[0m\n\u001b[1;32m    236\u001b[0m         \u001b[0;31m# Done with the headers, so parse them and figure out what we're\u001b[0m\u001b[0;34m\u001b[0m\u001b[0;34m\u001b[0m\u001b[0m\n\u001b[1;32m    237\u001b[0m         \u001b[0;31m# supposed to see in the body of the message.\u001b[0m\u001b[0;34m\u001b[0m\u001b[0;34m\u001b[0m\u001b[0m\n\u001b[0;32m--> 238\u001b[0;31m         \u001b[0mself\u001b[0m\u001b[0;34m.\u001b[0m\u001b[0m_parse_headers\u001b[0m\u001b[0;34m(\u001b[0m\u001b[0mheaders\u001b[0m\u001b[0;34m)\u001b[0m\u001b[0;34m\u001b[0m\u001b[0;34m\u001b[0m\u001b[0m\n\u001b[0m\u001b[1;32m    239\u001b[0m         \u001b[0;31m# Headers-only parsing is a backwards compatibility hack, which was\u001b[0m\u001b[0;34m\u001b[0m\u001b[0;34m\u001b[0m\u001b[0m\n\u001b[1;32m    240\u001b[0m         \u001b[0;31m# necessary in the older parser, which could raise errors.  All\u001b[0m\u001b[0;34m\u001b[0m\u001b[0;34m\u001b[0m\u001b[0m\n",
            "\u001b[0;32m/usr/lib/python3.11/email/feedparser.py\u001b[0m in \u001b[0;36m_parse_headers\u001b[0;34m(self, lines)\u001b[0m\n\u001b[1;32m    484\u001b[0m                 \u001b[0;32mcontinue\u001b[0m\u001b[0;34m\u001b[0m\u001b[0;34m\u001b[0m\u001b[0m\n\u001b[1;32m    485\u001b[0m             \u001b[0;32mif\u001b[0m \u001b[0mlastheader\u001b[0m\u001b[0;34m:\u001b[0m\u001b[0;34m\u001b[0m\u001b[0;34m\u001b[0m\u001b[0m\n\u001b[0;32m--> 486\u001b[0;31m                 \u001b[0mself\u001b[0m\u001b[0;34m.\u001b[0m\u001b[0m_cur\u001b[0m\u001b[0;34m.\u001b[0m\u001b[0mset_raw\u001b[0m\u001b[0;34m(\u001b[0m\u001b[0;34m*\u001b[0m\u001b[0mself\u001b[0m\u001b[0;34m.\u001b[0m\u001b[0mpolicy\u001b[0m\u001b[0;34m.\u001b[0m\u001b[0mheader_source_parse\u001b[0m\u001b[0;34m(\u001b[0m\u001b[0mlastvalue\u001b[0m\u001b[0;34m)\u001b[0m\u001b[0;34m)\u001b[0m\u001b[0;34m\u001b[0m\u001b[0;34m\u001b[0m\u001b[0m\n\u001b[0m\u001b[1;32m    487\u001b[0m                 \u001b[0mlastheader\u001b[0m\u001b[0;34m,\u001b[0m \u001b[0mlastvalue\u001b[0m \u001b[0;34m=\u001b[0m \u001b[0;34m''\u001b[0m\u001b[0;34m,\u001b[0m \u001b[0;34m[\u001b[0m\u001b[0;34m]\u001b[0m\u001b[0;34m\u001b[0m\u001b[0;34m\u001b[0m\u001b[0m\n\u001b[1;32m    488\u001b[0m             \u001b[0;31m# Check for envelope header, i.e. unix-from\u001b[0m\u001b[0;34m\u001b[0m\u001b[0;34m\u001b[0m\u001b[0m\n",
            "\u001b[0;32m/usr/lib/python3.11/email/_policybase.py\u001b[0m in \u001b[0;36mheader_source_parse\u001b[0;34m(self, sourcelines)\u001b[0m\n\u001b[1;32m    299\u001b[0m             \u001b[0;32mreturn\u001b[0m \u001b[0mvalue\u001b[0m\u001b[0;34m\u001b[0m\u001b[0;34m\u001b[0m\u001b[0m\n\u001b[1;32m    300\u001b[0m \u001b[0;34m\u001b[0m\u001b[0m\n\u001b[0;32m--> 301\u001b[0;31m     \u001b[0;32mdef\u001b[0m \u001b[0mheader_source_parse\u001b[0m\u001b[0;34m(\u001b[0m\u001b[0mself\u001b[0m\u001b[0;34m,\u001b[0m \u001b[0msourcelines\u001b[0m\u001b[0;34m)\u001b[0m\u001b[0;34m:\u001b[0m\u001b[0;34m\u001b[0m\u001b[0;34m\u001b[0m\u001b[0m\n\u001b[0m\u001b[1;32m    302\u001b[0m         \"\"\"+\n\u001b[1;32m    303\u001b[0m         \u001b[0mThe\u001b[0m \u001b[0mname\u001b[0m \u001b[0;32mis\u001b[0m \u001b[0mparsed\u001b[0m \u001b[0;32mas\u001b[0m \u001b[0meverything\u001b[0m \u001b[0mup\u001b[0m \u001b[0mto\u001b[0m \u001b[0mthe\u001b[0m \u001b[0;34m':'\u001b[0m \u001b[0;32mand\u001b[0m \u001b[0mreturned\u001b[0m \u001b[0munmodified\u001b[0m\u001b[0;34m.\u001b[0m\u001b[0;34m\u001b[0m\u001b[0;34m\u001b[0m\u001b[0m\n",
            "\u001b[0;31mKeyboardInterrupt\u001b[0m: "
          ]
        }
      ],
      "source": [
        "! pip install -q lalsuite\n",
        "! pip install -q gwpy\n",
        "! pip install -q pycbc\n",
        "# -- Click \"restart runtime\" in the runtime menu\n",
        "\n",
        "# -- download data\n",
        "! wget https://dcc.ligo.org/public/0187/G2300818/001/challenge1.gwf\n",
        "! pip install -U -q bilby==2.4.0 matplotlib==3.10.0 dynesty==2.1.5 corner==2.2.3 gwpy==3.0.12 lalsuite==7.25 scipy==1.12.0\n",
        "# -- for gwpy"
      ]
    },
    {
      "cell_type": "code",
      "execution_count": 1,
      "metadata": {
        "id": "5yz5PjAEgWQT",
        "colab": {
          "base_uri": "https://localhost:8080/"
        },
        "outputId": "60e845ce-f720-443e-a623-fdb21f6c8888"
      },
      "outputs": [
        {
          "output_type": "stream",
          "name": "stderr",
          "text": [
            "/usr/local/lib/python3.11/dist-packages/gwpy/time/__init__.py:36: UserWarning: Wswiglal-redir-stdio:\n",
            "\n",
            "SWIGLAL standard output/error redirection is enabled in IPython.\n",
            "This may lead to performance penalties. To disable locally, use:\n",
            "\n",
            "with lal.no_swig_redirect_standard_output_error():\n",
            "    ...\n",
            "\n",
            "To disable globally, use:\n",
            "\n",
            "lal.swig_redirect_standard_output_error(False)\n",
            "\n",
            "Note however that this will likely lead to error messages from\n",
            "LAL functions being either misdirected or lost when called from\n",
            "Jupyter notebooks.\n",
            "\n",
            "To suppress this warning, use:\n",
            "\n",
            "import warnings\n",
            "warnings.filterwarnings(\"ignore\", \"Wswiglal-redir-stdio\")\n",
            "import lal\n",
            "\n",
            "  from lal import LIGOTimeGPS\n"
          ]
        }
      ],
      "source": [
        "from gwpy.timeseries import TimeSeries\n",
        "gwpy_strain = TimeSeries.read('challenge1.gwf', channel=\"H1:CHALLENGE1\")\n",
        "\n",
        "# -- for pycbc\n",
        "from pycbc import frame\n",
        "pycbc_strain = frame.read_frame('challenge1.gwf', 'H1:CHALLENGE1')"
      ]
    },
    {
      "cell_type": "code",
      "execution_count": 2,
      "metadata": {
        "id": "sazdv1WveQ2y"
      },
      "outputs": [],
      "source": [
        "import matplotlib.pyplot as plt\n",
        "from pycbc.catalog import Merger\n",
        "from pycbc.filter import resample_to_delta_t, highpass\n"
      ]
    },
    {
      "cell_type": "markdown",
      "metadata": {
        "id": "qrTg0a18gijC"
      },
      "source": [
        "# Challenge 1\n"
      ]
    },
    {
      "cell_type": "code",
      "execution_count": 3,
      "metadata": {
        "colab": {
          "base_uri": "https://localhost:8080/"
        },
        "id": "_1oRFglPfZw2",
        "outputId": "04bf1740-84da-4f8d-b971-e371672da5c1"
      },
      "outputs": [
        {
          "output_type": "stream",
          "name": "stderr",
          "text": [
            "09:07 bilby INFO    : Reading data from frame file challenge1.gwf\n",
            "09:07 bilby INFO    : Successfully loaded H1:CHALLENGE1.\n"
          ]
        }
      ],
      "source": [
        "import bilby\n",
        "sampling_rate = 2048  # needs to be high enough for the signals found in steps above\n",
        "duration = 8  # needs to be long enough for the signals found in steps above\n",
        "start_time = 100  # needs to be set so that the segment defined by [start_time,start_time+duration] contains the signal\n",
        "\n",
        "interferometers = bilby.gw.detector.InterferometerList([])\n",
        "for ifo_name in ['H1']: # Changed to only iterate over H1\n",
        "    ifo = bilby.gw.detector.get_empty_interferometer(ifo_name)\n",
        "    ifo.set_strain_data_from_frame_file('challenge1.gwf', sampling_rate, duration, start_time=start_time, channel=f'{ifo_name}:CHALLENGE1')\n",
        "    interferometers.append(ifo)"
      ]
    },
    {
      "cell_type": "code",
      "execution_count": null,
      "metadata": {
        "id": "JK9V_YxUi3PP"
      },
      "outputs": [],
      "source": [
        "\n",
        "print(f\"Data time duration: {gwpy_strain.duration} seconds\")\n",
        "print(f\"Sampling rate: {gwpy_strain.sample_rate} Hz\")"
      ]
    },
    {
      "cell_type": "code",
      "execution_count": null,
      "metadata": {
        "id": "64DO9jjdjUKz"
      },
      "outputs": [],
      "source": [
        "plt.plot(gwpy_strain.times, gwpy_strain)\n",
        "plt.title(\"Time evolution of the strain\")\n",
        "plt.xlabel(\"Time\")"
      ]
    },
    {
      "cell_type": "code",
      "execution_count": null,
      "metadata": {
        "id": "f5m7_TZ-jf-m"
      },
      "outputs": [],
      "source": [
        "q_gw = gwpy_strain.q_transform(frange=(30, 500))\n",
        "plot = q_gw.plot()\n",
        "plot.colorbar(label=\"Normalised energy\")\n",
        "ax = plot.gca()\n",
        "ax.set_xlim(60,70)\n",
        "ax.set_yscale('log')\n",
        "ax.colorbar(label=\"Normalised energy\")"
      ]
    },
    {
      "cell_type": "markdown",
      "metadata": {
        "id": "K1dGb4eA8dW8"
      },
      "source": [
        "From the spectrogram we can see that time of the merger occurs at 66 seconds in the data frame."
      ]
    },
    {
      "cell_type": "markdown",
      "metadata": {
        "id": "Zy5FgYPY9HrZ"
      },
      "source": [
        "# Challenge 2\n"
      ]
    },
    {
      "cell_type": "code",
      "execution_count": null,
      "metadata": {
        "id": "ubrOnPUn7Tjk"
      },
      "outputs": [],
      "source": [
        "! wget https://dcc.ligo.org/public/0187/G2300818/001/challenge2.gwf\n",
        "\n",
        "gwpy_strain = TimeSeries.read('challenge2.gwf', channel=\"H1:CHALLENGE2\")\n",
        "\n",
        "\n",
        "pycbc_strain = frame.read_frame('challenge2.gwf', 'H1:CHALLENGE2')"
      ]
    },
    {
      "cell_type": "code",
      "execution_count": null,
      "metadata": {
        "id": "m4yGFuJY9b3V"
      },
      "outputs": [],
      "source": [
        "q_gw_2 = gwpy_strain.q_transform(frange=(30, 500))\n",
        "plot = q_gw_2.plot()\n",
        "plot.colorbar(label=\"Normalised energy\")\n",
        "ax = plot.gca()\n",
        "ax.set_xlim(45,55)\n",
        "ax.set_yscale('log')\n",
        "ax.colorbar(label=\"Normalised energy\")"
      ]
    },
    {
      "cell_type": "markdown",
      "metadata": {
        "id": "UiRuDqrR-Fmn"
      },
      "source": [
        "The time of the merger seems to be about 49 seconds in the data frame\n"
      ]
    },
    {
      "cell_type": "code",
      "execution_count": null,
      "metadata": {
        "id": "u-O0cxbeDIsQ"
      },
      "outputs": [],
      "source": [
        "from pycbc.waveform import get_td_waveform, fd_approximants\n",
        "hp, hc = get_td_waveform(approximant=\"SEOBNRv4_opt\",\n",
        "                         mass1=30,\n",
        "                         mass2=30,\n",
        "                         delta_t=1.0/4096,\n",
        "                         f_lower=20)\n",
        "plt.figure(figsize=plt.figaspect(0.4))\n",
        "plt.plot(hp.sample_times, hp, label='Plus Polarization')\n",
        "plt.plot(hp.sample_times, hc, label='Cross Polarization')\n",
        "plt.xlabel('Time (s)')\n",
        "plt.ylabel('Strain')\n",
        "plt.legend()\n",
        "plt.grid()\n",
        "plt.show()\n",
        "# Zoom in near the merger time\n",
        "plt.figure(figsize=plt.figaspect(0.4))\n",
        "plt.plot(hp.sample_times, hp, label='Plus Polarization')\n",
        "plt.plot(hp.sample_times, hc, label='Cross Polarization')\n",
        "plt.xlabel('Time (s)')\n",
        "plt.ylabel('Strain')\n",
        "plt.xlim(-.1, .01)\n",
        "plt.legend()\n",
        "plt.grid()\n",
        "plt.show()\n"
      ]
    },
    {
      "cell_type": "code",
      "execution_count": null,
      "metadata": {
        "id": "SqHjLb2h_8Lj"
      },
      "outputs": [],
      "source": [
        "strain = highpass(pycbc_strain, 15.0) # Use pycbc_strain for highpass\n",
        "#strain = resample_to_delta_t(strain, 1.0/2048)\n",
        "#conditioned = strain.crop(2, 2)\n",
        "conditioned = pycbc_strain"
      ]
    },
    {
      "cell_type": "code",
      "execution_count": null,
      "metadata": {
        "id": "uJr87Urz9los"
      },
      "outputs": [],
      "source": [
        "from pycbc.psd import interpolate, inverse_spectrum_truncation\n",
        "\n",
        "psd = conditioned.psd(4)\n",
        "\n",
        "psd = interpolate(psd, conditioned.delta_f)\n",
        "\n",
        "# 1/PSD will now act as a filter with an effective length of 4 seconds\n",
        "# Since the data has been highpassed above 15 Hz, and will have low values\n",
        "# below this we need to inform the function to not include frequencies\n",
        "# below this frequency.\n",
        "psd = inverse_spectrum_truncation(psd, int(4 * conditioned.sample_rate),\n",
        "                                  low_frequency_cutoff=15)"
      ]
    },
    {
      "cell_type": "code",
      "execution_count": null,
      "metadata": {
        "id": "m2uguCorArcz"
      },
      "outputs": [],
      "source": [
        "plt.loglog(psd.sample_frequencies, psd)\n",
        "plt.xlabel(\"Frequency\")\n",
        "plt.ylabel(\"PSD\")\n",
        "plt.xlim(20, 2048)"
      ]
    },
    {
      "cell_type": "code",
      "execution_count": null,
      "metadata": {
        "id": "B-3nv0W6BWb6"
      },
      "outputs": [],
      "source": [
        "strain = highpass(pycbc_strain, 15.0) # Use pycbc_strain for highpass\n",
        "strain = resample_to_delta_t(strain, 1.0/4096)\n",
        "conditioned = strain.crop(2, 2)\n",
        "hp.resize(len(conditioned))"
      ]
    },
    {
      "cell_type": "code",
      "execution_count": null,
      "metadata": {
        "id": "fij7hbpyj86I"
      },
      "outputs": [],
      "source": [
        "print(conditioned.delta_f)\n",
        "print(f\"Data time duration: {gwpy_strain.duration} seconds\")\n",
        "print(f\"Sampling rate: {pycbc_strain.sample_rate} Hz\")"
      ]
    },
    {
      "cell_type": "markdown",
      "metadata": {
        "id": "zDsI_i-HHtT0"
      },
      "source": [
        "## Match filtering"
      ]
    },
    {
      "cell_type": "code",
      "execution_count": null,
      "metadata": {
        "id": "fd6517f3"
      },
      "outputs": [],
      "source": [
        "psd = conditioned.psd(4)\n",
        "psd = interpolate(psd, conditioned.delta_f)\n",
        "psd = inverse_spectrum_truncation(psd, int(4 * conditioned.sample_rate),\n",
        "                                  low_frequency_cutoff=15)"
      ]
    },
    {
      "cell_type": "code",
      "execution_count": null,
      "metadata": {
        "id": "6ccec764"
      },
      "outputs": [],
      "source": [
        "from pycbc.filter import matched_filter\n",
        "import numpy\n",
        "template = hp.cyclic_time_shift(hp.start_time)\n",
        "\n",
        "# Resample the template to match the conditioned data\n",
        "template = resample_to_delta_t(template, conditioned.delta_t)\n",
        "if len(template) > len(conditioned):\n",
        "    template = template[:len(conditioned)]\n",
        "elif len(template) < len(conditioned):\n",
        "    conditioned = conditioned[:len(template)]\n",
        "\n",
        "\n",
        "snr = matched_filter(template, conditioned,\n",
        "                     psd=psd, low_frequency_cutoff=15)\n",
        "\n",
        "# Remove time corrupted by the template filter and the psd filter\n",
        "# We remove 4 seconds at the beginning and end for the PSD filtering\n",
        "# And we remove 4 additional seconds at the beginning to account for\n",
        "# the template length (this is somewhat generous for\n",
        "# so short a template). A longer signal such as from a BNS, would\n",
        "# require much more padding at the beginning of the vector.\n",
        "snr = snr.crop(4 + 4, 4)\n",
        "\n",
        "# Why are we taking an abs() here?\n",
        "# The `matched_filter` function actually returns a 'complex' SNR.\n",
        "# What that means is that the real portion corresponds to the SNR\n",
        "# associated with directly filtering the template with the data.\n",
        "# The imaginary portion corresponds to filtering with a template that\n",
        "# is 90 degrees out of phase. Since the phase of a signal may be\n",
        "# anything, we choose to maximize over the phase of the signal.\n",
        "plt.figure(figsize=[10, 4])\n",
        "plt.plot(snr.sample_times, abs(snr))\n",
        "plt.ylabel('Signal-to-noise')\n",
        "plt.xlabel('Time (s)')\n",
        "plt.show()\n",
        "\n",
        "peak = abs(snr).numpy().argmax()\n",
        "snrp = snr[peak]\n",
        "time = snr.sample_times[peak]\n",
        "\n",
        "print(\"We found a signal at {}s with SNR {}\".format(time, abs(snrp)))"
      ]
    },
    {
      "cell_type": "markdown",
      "metadata": {
        "id": "4_qyZPlyuWf_"
      },
      "source": [
        "# Challenge 3\n"
      ]
    },
    {
      "cell_type": "code",
      "execution_count": 6,
      "metadata": {
        "colab": {
          "base_uri": "https://localhost:8080/"
        },
        "id": "g0J6FXFxbZOb",
        "outputId": "0c0a22f5-040c-443e-8139-25ed0a88599e"
      },
      "outputs": [
        {
          "output_type": "stream",
          "name": "stdout",
          "text": [
            "--2025-07-26 09:08:20--  https://dcc.ligo.org/public/0187/G2300818/001/challenge3.gwf\n",
            "Resolving dcc.ligo.org (dcc.ligo.org)... 131.215.125.133\n",
            "Connecting to dcc.ligo.org (dcc.ligo.org)|131.215.125.133|:443... connected.\n",
            "HTTP request sent, awaiting response... 200 OK\n",
            "Length: 256814830 (245M)\n",
            "Saving to: ‘challenge3.gwf’\n",
            "\n",
            "challenge3.gwf      100%[===================>] 244.92M  63.1MB/s    in 4.3s    \n",
            "\n",
            "2025-07-26 09:08:25 (57.0 MB/s) - ‘challenge3.gwf’ saved [256814830/256814830]\n",
            "\n"
          ]
        }
      ],
      "source": [
        "! wget https://dcc.ligo.org/public/0187/G2300818/001/challenge3.gwf\n",
        "\n",
        "gwpy_strain = TimeSeries.read('challenge3.gwf', channel=\"H1:CHALLENGE3\")\n",
        "\n",
        "\n",
        "pycbc_strain = frame.read_frame('challenge3.gwf', 'H1:CHALLENGE3')"
      ]
    },
    {
      "cell_type": "code",
      "execution_count": null,
      "metadata": {
        "id": "ki4L8HUWuyQJ"
      },
      "outputs": [],
      "source": [
        "strain = highpass(pycbc_strain, 15.0) # Use pycbc_strain for highpass\n",
        "strain = resample_to_delta_t(strain, 1.0/4096) # This resamples the strain data\n",
        "conditioned = strain.crop(2, 2)\n",
        "# hp.resize(len(conditioned)) # This should be done after the template is created and resampled\n",
        "\n",
        "# Add a check to ensure conditioned data is not None\n",
        "if conditioned is None or len(conditioned) == 0:\n",
        "    raise ValueError(\"Conditioned data is empty or None after cropping.\")"
      ]
    },
    {
      "cell_type": "code",
      "execution_count": null,
      "metadata": {
        "id": "xBIybRdfvD9-"
      },
      "outputs": [],
      "source": [
        "hp, hc = get_td_waveform(approximant=\"SEOBNRv4_opt\",\n",
        "                         mass1=10,\n",
        "                         mass2=10,\n",
        "                         delta_t=1.0/4096, # Use the desired delta_t for the template\n",
        "                         f_lower=20)\n",
        "hp = resample_to_delta_t(hp, conditioned.delta_t) # Resample template to match conditioned data\n",
        "# Ensure template is not longer than conditioned data\n",
        "if len(hp) > len(conditioned):\n",
        "    hp = hp[:len(conditioned)]\n",
        "\n",
        "psd = conditioned.psd(4)\n",
        "psd = interpolate(psd, conditioned.delta_f)\n",
        "psd = inverse_spectrum_truncation(psd, int(4 * conditioned.sample_rate),\n",
        "                                  low_frequency_cutoff=15)\n",
        "hp.resize(len(conditioned))\n",
        "template = hp.cyclic_time_shift(hp.start_time) # Apply cyclic time shift"
      ]
    },
    {
      "cell_type": "markdown",
      "metadata": {
        "id": "Yy87QfBH0VK3"
      },
      "source": [
        "Before applying the match filtering procedure, we rescale the SNR in order to remove non gaussianities:\n",
        "\n",
        "$\\hat{\\rho} = \\frac{\\rho}{ \\frac{1}{2}[1 + (\\chi^2_r)^3]^{1/6}}$ where $\\chi^2 > 1$, otherwise $\\rho$"
      ]
    },
    {
      "cell_type": "code",
      "execution_count": null,
      "metadata": {
        "id": "7bJ809P6wH1K"
      },
      "outputs": [],
      "source": [
        "from pycbc.events.ranking import newsnr\n",
        "from pycbc.vetoes import power_chisq\n",
        "import numpy as np\n",
        "snr = matched_filter(template, conditioned,\n",
        "                     psd=psd, low_frequency_cutoff=15)\n",
        "\n",
        "\n",
        "snr = snr.crop(4 + 4, 4)\n",
        "nbins = 26\n",
        "chisq_x = power_chisq(hp, conditioned, nbins, psd, low_frequency_cutoff=20.0)\n",
        "\n",
        "# Crop chisq_x to match the cropped snr\n",
        "chisq_x = chisq_x.crop(4+4, 4)\n",
        "\n",
        "dof_x = nbins * 2 - 2\n",
        "chisq_x /= dof_x\n",
        "\n",
        "\n",
        "# The rho-hat term above is named \"newsnr\" here\n",
        "nsnr_x = newsnr(abs(snr), chisq_x)\n",
        "plt.figure(figsize=[10, 4])\n",
        "plt.plot(snr.sample_times, abs(snr))\n",
        "plt.ylabel('Signal-to-noise')\n",
        "plt.xlabel('Time (s)')\n",
        "plt.show()\n",
        "\n",
        "peak = nsnr_x.argmax() # Use nsnr_x instead of newsnr\n",
        "snrp = nsnr_x[peak] # Use nsnr_x instead of newsnr\n",
        "time = snr.sample_times[peak]\n",
        "\n",
        "plt.figure(figsize = [10,4]) # Fix the typo here\n",
        "plt.plot(snr.sample_times, abs(nsnr_x)) # Use nsnr_x instead of newsnr\n",
        "plt.ylabel('Signal-to-noise')\n",
        "plt.xlabel('Time (s)')\n",
        "plt.title(\"New time series SNR\")\n",
        "plt.show()\n",
        "print(\"We found a signal at {}s with SNR {}\".format(time, abs(snrp)))"
      ]
    },
    {
      "cell_type": "code",
      "execution_count": null,
      "metadata": {
        "id": "RpfmmtIpBTyi"
      },
      "outputs": [],
      "source": [
        "from scipy.signal import find_peaks\n",
        "peaks, _ = find_peaks(nsnr_x, height=5)  # puoi regolare il threshold\n",
        "top3_idx = peaks[np.argsort(nsnr_x[peaks])[-3:]]\n",
        "\n",
        "for i, idx in enumerate(top3_idx):\n",
        "    print(f\"\\n Peak {i+1}\")\n",
        "    print(f\"Time: {snr.sample_times[idx]:.2f} s\")\n",
        "    print(f\"SNR: {abs(snr[idx]):.2f}\")\n",
        "    print(f\"newsnr: {nsnr_x[idx]:.2f}\")\n",
        "    print(f\"Reduced chi²: {chisq_x[idx]:.2f}\")\n",
        "\n",
        "\n",
        "    t0 = snr.sample_times[idx]\n",
        "    mask = (snr.sample_times >= t0 - 2) & (snr.sample_times <= t0 + 2)\n",
        "\n"
      ]
    },
    {
      "cell_type": "markdown",
      "metadata": {
        "id": "g0rX1JNACAzv"
      },
      "source": [
        "It seems that there are three distinct signal in our data, even after rescaling the snr."
      ]
    },
    {
      "cell_type": "markdown",
      "metadata": {
        "id": "4LITYmOZ9R2s"
      },
      "source": [
        "# Challenge 4"
      ]
    },
    {
      "cell_type": "code",
      "execution_count": 7,
      "metadata": {
        "id": "pKRzg62H95wb"
      },
      "outputs": [],
      "source": [
        "gwpy_strain = TimeSeries.read('challenge3.gwf', channel=\"L1:CHALLENGE3\")\n",
        "\n",
        "pycbc_strain = frame.read_frame('challenge3.gwf', 'L1:CHALLENGE3')"
      ]
    },
    {
      "cell_type": "code",
      "execution_count": null,
      "metadata": {
        "id": "UtJFzo1M-hP6"
      },
      "outputs": [],
      "source": [
        "strain = highpass(pycbc_strain, 15.0) # Use pycbc_strain for highpass\n",
        "strain = resample_to_delta_t(strain, 1.0/4096)\n",
        "conditioned = strain.crop(2, 2)\n"
      ]
    },
    {
      "cell_type": "code",
      "execution_count": null,
      "metadata": {
        "id": "scDj28vZwJ6N"
      },
      "outputs": [],
      "source": [
        "mass = np.arange(10,51)\n",
        "\n",
        "glitch_list = []\n",
        "snr_list = []\n",
        "snr_sig_peaks = []\n",
        "chisq_list = []\n",
        "time_list = []\n",
        "time_glitches =[]\n",
        "whitened_strain = conditioned.whiten(4, 4)\n",
        "psd = whitened_strain.psd(4)\n",
        "psd = interpolate(psd, whitened_strain.delta_f)\n",
        "psd = inverse_spectrum_truncation(psd, int(4 * whitened_strain.sample_rate),\n",
        "                                  low_frequency_cutoff=15)\n",
        "for m in mass:\n",
        "  hp, hc = get_td_waveform(approximant=\"SEOBNRv4_opt\",\n",
        "                          mass1=m,\n",
        "                          mass2=m,\n",
        "                          delta_t=1.0/4096, # Use the desired delta_t for the template\n",
        "                          f_lower=20)\n",
        "  hp = resample_to_delta_t(hp, whitened_strain.delta_t) # Resample template to match conditioned data\n",
        "\n",
        "\n",
        "\n",
        "\n",
        "  hp.resize(len(whitened_strain))\n",
        "  template = hp.cyclic_time_shift(hp.start_time) # Apply cyclic time shift\n",
        "\n",
        "\n",
        "\n",
        "  snr_i = matched_filter(template, whitened_strain, psd=psd, low_frequency_cutoff=15) # Fix: Use conditioned data\n",
        "\n",
        "\n",
        "  snr_i = snr_i.crop(8, 4)\n",
        "\n",
        "\n",
        "\n",
        "  nbins = 26\n",
        "  peaks, _ = find_peaks(abs(snr_i), height=5)\n",
        "  chisq_x = power_chisq(hp, whitened_strain, nbins, psd, low_frequency_cutoff=20.0)\n",
        "\n",
        "  # Crop chisq_x to match the cropped snr\n",
        "  chisq_x = chisq_x.crop(8, 4)\n",
        "\n",
        "  dof_x = nbins * 2 - 2\n",
        "  chisq_x /= dof_x\n",
        "\n",
        "\n",
        "  # The rho-hat term above is named \"newsnr\" here\n",
        "  nsnr_x = newsnr(abs(snr_i), chisq_x)\n",
        "\n",
        "  frac_diff = np.abs(snr_i[peaks] - nsnr_x[peaks]) / abs(snr_i[peaks])\n",
        "  high_chisq = chisq_x[peaks] > 2\n",
        "  idx_glitch = np.where((frac_diff > 0.2) & high_chisq)\n",
        "\n",
        "  glitches = snr_i[peaks][idx_glitch] # Index peaks into snr_i before idx_glitch\n",
        "  signal_peaks = nsnr_x[peaks]\n",
        "  time = snr_i.sample_times[nsnr_x.argmax()]\n",
        "\n",
        "  snr_list.append(snr_i[peaks]) #list containing signal and glitches peaks\n",
        "  snr_sig_peaks.append(signal_peaks) #list containing signal peaks\n",
        "  chisq_list.append(chisq_x[peaks]) #list containing chi^2 of signal and glitches\n",
        "  time_list.append(time)  #time of signal peak\n",
        "  glitch_list.append(glitches)\n",
        "  time_glitches.append(snr_i.sample_times[idx_glitch]) #time of glitches\n"
      ]
    },
    {
      "cell_type": "code",
      "execution_count": null,
      "metadata": {
        "id": "Gf0gAZnbr1e1"
      },
      "outputs": [],
      "source": [
        "all_glitch_times = np.concatenate(time_glitches)\n",
        "unique_glitches = np.unique(np.round(all_glitch_times, 2)) #in order to avoid duplicates"
      ]
    },
    {
      "cell_type": "code",
      "execution_count": null,
      "metadata": {
        "id": "6yP-aIqTqKUA"
      },
      "outputs": [],
      "source": [
        "#print(time_glitches)\n",
        "print(len(time_glitches))\n",
        "print(len(unique_glitches))\n",
        "print(unique_glitches)"
      ]
    },
    {
      "cell_type": "code",
      "execution_count": null,
      "metadata": {
        "id": "SNiYYVjdNrh6"
      },
      "outputs": [],
      "source": [
        "#glitches spectrogram\n",
        "from gwpy.timeseries import TimeSeries\n",
        "from pycbc.types import TimeSeries as PycbcTimeSeries # Import Pycbc TimeSeries\n",
        "\n",
        "for i, t_glitch in enumerate(unique_glitches):\n",
        "        # Extract a segment of the conditioned data around the glitch time using pycbc\n",
        "        # Increase the segment length to provide more data for q_transform\n",
        "        segment_pycbc = conditioned.time_slice(t_glitch - 2, t_glitch + 2) # Extract a 4 second segment centered at the glitch\n",
        "\n",
        "        if len(segment_pycbc) > 0:\n",
        "            print(f\"Generating spectrogram for glitch at t = {t_glitch:.2f}s...\")\n",
        "            try:\n",
        "                # Convert pycbc TimeSeries segment to gwpy TimeSeries\n",
        "                segment_gwpy = TimeSeries(segment_pycbc.data, sample_rate=segment_pycbc.sample_rate, t0=segment_pycbc.start_time)\n",
        "\n",
        "                # Use gwpy's q_transform on the segment\n",
        "                q_glitch = segment_gwpy.q_transform(frange=(30, 500), qrange=(4, 64))\n",
        "\n",
        "                plot = q_glitch.plot()\n",
        "                plot.colorbar(label=\"Normalised energy\")\n",
        "                ax = plot.gca()\n",
        "                ax.set_yscale('log')\n",
        "                ax.set_title(f\"Spectrogram of Glitch at {t_glitch:.2f}s\")\n",
        "                plt.show()\n",
        "            except Exception as e:\n",
        "                print(f\"Could not generate spectrogram for glitch at {t_glitch:.2f}s: {e}\")\n",
        "        else:\n",
        "            print(f\"Skipping glitch at {t_glitch:.2f}s: Could not extract segment.\")\n"
      ]
    },
    {
      "cell_type": "code",
      "execution_count": null,
      "metadata": {
        "id": "q72iTE9Rnl2r"
      },
      "outputs": [],
      "source": [
        "plt.plot(conditioned.sample_times, conditioned)\n",
        "plt.axvline(10, color='r', linestyle='--')\n",
        "plt.title(\"Conditioned Data\")\n",
        "plt.xlabel(\"Time [s]\")\n",
        "plt.ylabel(\"Strain\")"
      ]
    },
    {
      "cell_type": "code",
      "source": [],
      "metadata": {
        "id": "Yp-4ZjR-0gbb"
      },
      "execution_count": null,
      "outputs": []
    },
    {
      "cell_type": "code",
      "source": [
        "print(snr_sig_peaks)\n",
        "print(time_list)"
      ],
      "metadata": {
        "id": "YvXxad82KJBq"
      },
      "execution_count": null,
      "outputs": []
    },
    {
      "cell_type": "code",
      "source": [
        "peak_arr = np.concatenate(snr_sig_peaks)\n",
        "print(peak_arr > 8)"
      ],
      "metadata": {
        "id": "21XCbvVHNle5"
      },
      "execution_count": null,
      "outputs": []
    },
    {
      "cell_type": "code",
      "source": [],
      "metadata": {
        "id": "5i3NJhlHOa7_"
      },
      "execution_count": null,
      "outputs": []
    },
    {
      "cell_type": "code",
      "metadata": {
        "id": "055149fc"
      },
      "source": [
        "significant_peaks = []\n",
        "significant_times = []\n",
        "\n",
        "for i, peaks in enumerate(snr_sig_peaks):\n",
        "    significant_indices = np.where(peaks > 8)[0]\n",
        "    for index in significant_indices:\n",
        "        significant_peaks.append(peaks[index])\n",
        "        significant_times.append(time_list[i])\n",
        "\n",
        "print(\"Significant SNR peaks:\", np.array(significant_peaks))\n",
        "print(\"Corresponding times:\", np.array(significant_times))"
      ],
      "execution_count": null,
      "outputs": []
    },
    {
      "cell_type": "code",
      "source": [],
      "metadata": {
        "id": "5aF6pVVLO5w1"
      },
      "execution_count": null,
      "outputs": []
    },
    {
      "cell_type": "code",
      "metadata": {
        "colab": {
          "base_uri": "https://localhost:8080/",
          "height": 211
        },
        "id": "23af5775",
        "outputId": "d1f92931-167a-4b04-bb4c-0673b3e89fe0"
      },
      "source": [
        "from collections import defaultdict\n",
        "\n",
        "# Group events by time\n",
        "event_groups = defaultdict(list)\n",
        "for time, snr in zip(significant_times, significant_peaks):\n",
        "    # Round the time to group nearby events\n",
        "    event_groups[round(time, 1)].append((time, snr))\n",
        "\n",
        "# Find the best-fit mass for each event\n",
        "for rounded_time, events in event_groups.items():\n",
        "    # Find the event with the highest SNR in the group\n",
        "    #Max returns the tuple with the corresponding maximum snr\n",
        "    best_time, best_snr = max(events, key=lambda item: item[1])\n",
        "\n",
        "    # Find the index of the time in the original time_list\n",
        "    # This index will correspond to the mass in the mass array\n",
        "    time_index = time_list.index(best_time)\n",
        "    best_mass = mass[time_index]\n",
        "\n",
        "    print(f\"Event at ~{rounded_time}s:\")\n",
        "    print(f\"  Best SNR: {best_snr:.2f}\")\n",
        "    print(f\"  Best-fit mass: {best_mass} solar masses\")"
      ],
      "execution_count": 10,
      "outputs": [
        {
          "output_type": "error",
          "ename": "NameError",
          "evalue": "name 'significant_times' is not defined",
          "traceback": [
            "\u001b[0;31m---------------------------------------------------------------------------\u001b[0m",
            "\u001b[0;31mNameError\u001b[0m                                 Traceback (most recent call last)",
            "\u001b[0;32m/tmp/ipython-input-10-1580713428.py\u001b[0m in \u001b[0;36m<cell line: 0>\u001b[0;34m()\u001b[0m\n\u001b[1;32m      3\u001b[0m \u001b[0;31m# Group events by time\u001b[0m\u001b[0;34m\u001b[0m\u001b[0;34m\u001b[0m\u001b[0m\n\u001b[1;32m      4\u001b[0m \u001b[0mevent_groups\u001b[0m \u001b[0;34m=\u001b[0m \u001b[0mdefaultdict\u001b[0m\u001b[0;34m(\u001b[0m\u001b[0mlist\u001b[0m\u001b[0;34m)\u001b[0m\u001b[0;34m\u001b[0m\u001b[0;34m\u001b[0m\u001b[0m\n\u001b[0;32m----> 5\u001b[0;31m \u001b[0;32mfor\u001b[0m \u001b[0mtime\u001b[0m\u001b[0;34m,\u001b[0m \u001b[0msnr\u001b[0m \u001b[0;32min\u001b[0m \u001b[0mzip\u001b[0m\u001b[0;34m(\u001b[0m\u001b[0msignificant_times\u001b[0m\u001b[0;34m,\u001b[0m \u001b[0msignificant_peaks\u001b[0m\u001b[0;34m)\u001b[0m\u001b[0;34m:\u001b[0m\u001b[0;34m\u001b[0m\u001b[0;34m\u001b[0m\u001b[0m\n\u001b[0m\u001b[1;32m      6\u001b[0m     \u001b[0;31m# Round the time to group nearby events\u001b[0m\u001b[0;34m\u001b[0m\u001b[0;34m\u001b[0m\u001b[0m\n\u001b[1;32m      7\u001b[0m     \u001b[0mevent_groups\u001b[0m\u001b[0;34m[\u001b[0m\u001b[0mround\u001b[0m\u001b[0;34m(\u001b[0m\u001b[0mtime\u001b[0m\u001b[0;34m,\u001b[0m \u001b[0;36m1\u001b[0m\u001b[0;34m)\u001b[0m\u001b[0;34m]\u001b[0m\u001b[0;34m.\u001b[0m\u001b[0mappend\u001b[0m\u001b[0;34m(\u001b[0m\u001b[0;34m(\u001b[0m\u001b[0mtime\u001b[0m\u001b[0;34m,\u001b[0m \u001b[0msnr\u001b[0m\u001b[0;34m)\u001b[0m\u001b[0;34m)\u001b[0m\u001b[0;34m\u001b[0m\u001b[0;34m\u001b[0m\u001b[0m\n",
            "\u001b[0;31mNameError\u001b[0m: name 'significant_times' is not defined"
          ]
        }
      ]
    },
    {
      "cell_type": "markdown",
      "source": [
        "## Computing the posterior"
      ],
      "metadata": {
        "id": "HBandgMIVs7J"
      }
    },
    {
      "cell_type": "code",
      "metadata": {
        "colab": {
          "base_uri": "https://localhost:8080/",
          "height": 1000,
          "referenced_widgets": [
            "4f7bd1981bda43e39413ade5c610cd2a",
            "835a4615ced241678eab54b5398263f9",
            "b4562f5774104d7b97e723cbb0ed4bc2",
            "e9ceaddd5dec4f608e44819d4f4fd91e",
            "f51ae491a6fe437cb812c21267661cc4",
            "4a6e980d07034a4d86227b131f9c15a2",
            "b5727854b5b947b18761934dadf0b800",
            "3ba3c8b6fdbe41b2adbf63b2add9707f",
            "f0793c7fa6a946e5aaba1cacf5b9663d",
            "e2ca4bc6fb8c43bea200356fdc5be9c9",
            "1dbf24a3b95f4e74a3269114bdb529ff",
            "80642e9d1abc453ebace5729597cad9b",
            "46b60dd94fda4718923f41d6b49b4306",
            "a34df85a528d463b8cdec26ec9d7d3fe",
            "cf15752800da475793d53428b3aaea52",
            "638bb34f85e6442297c43cc66a9b0ef2",
            "42edf6c37d814224ac73e9648c1045c4",
            "dc97baa113c74ed7997c6052d1e895f2",
            "a4e1759cfacf43d2b92bac53e2eb64e5",
            "3670fa4eca58448499f1d88e89d26855",
            "4bfab66600c84a55a37e74500634b636",
            "b1f51fc2b0b04ea29e1f2e2b9f620c8b",
            "77a2b386b87c4201a4dd1752c38ea71c",
            "6c19f789289242f3a09035ba4a5c1ddd",
            "04545e92642647acb6259a2d69162454",
            "84601287247748c68de252b737bbb964",
            "b63f26dc5e664849b295b3424a463d1a",
            "e3adb7e6a7ff47799b02e15ba8ac36ba",
            "02be83bf46504426a0f26f0804468f85",
            "0f82056c2f3e4e2baa8f0b7ff5ab3a66",
            "877d05df716145df85ffb89add8f9ce6",
            "e9e75d7a27ef480cb0a9da6679830662",
            "8ac031c09fad442fb78149f85d421765"
          ]
        },
        "id": "edb4c373",
        "outputId": "62814b49-ce82-4885-865c-68cd39948df6"
      },
      "source": [
        "import bilby\n",
        "from bilby.gw import WaveformGenerator\n",
        "from gwpy.timeseries import TimeSeries\n",
        "\n",
        "events = [\n",
        "    {'time': 2484.0, 'mass': 10, 'duration': 8, 'psd_duration': 16},\n",
        "    {'time': 1638.2, 'mass': 17, 'duration': 8, 'psd_duration': 16},\n",
        "    {'time': 2892.7, 'mass': 22, 'duration': 8, 'psd_duration': 16}\n",
        "]\n",
        "\n",
        "for event in events:\n",
        "    start_time = event['time'] - event['duration'] + 1\n",
        "    end_time = event['time'] + 1\n",
        "    #one second after the ringdown and 4 seconds before the peak\n",
        "\n",
        "    ifo = bilby.gw.detector.get_empty_interferometer('L1')\n",
        "    #load strain on ifo object\n",
        "    ifo.set_strain_data_from_frame_file(\n",
        "        'challenge3.gwf',\n",
        "        sampling_frequency=2048,\n",
        "        duration=event['duration'],\n",
        "        start_time=start_time,\n",
        "        channel='L1:CHALLENGE3'\n",
        "    )\n",
        "\n",
        "\n",
        "    psd_start_time = start_time - event['psd_duration']\n",
        "    psd_end_time = start_time\n",
        "\n",
        "    # Use gwpy to calculate the PSD\n",
        "    psd_data = TimeSeries.read(\n",
        "        'challenge3.gwf',\n",
        "        start=psd_start_time,\n",
        "        end=psd_end_time,\n",
        "        channel='L1:CHALLENGE3'\n",
        "    )\n",
        "    psd = psd_data.psd(fftlength=4)\n",
        "\n",
        "    # Set the PSD for the interferometer\n",
        "    ifo.power_spectral_density = bilby.gw.detector.PowerSpectralDensity(\n",
        "        frequency_array=psd.frequencies.value, psd_array=psd.value\n",
        "    )\n",
        "\n",
        "\n",
        "    #generate waveform\n",
        "    waveform_generator = WaveformGenerator(\n",
        "        duration=event['duration'],\n",
        "        sampling_frequency=2048,\n",
        "        frequency_domain_source_model=bilby.gw.source.lal_binary_black_hole,\n",
        "        parameter_conversion=bilby.gw.conversion.convert_to_lal_binary_black_hole_parameters,\n",
        "        waveform_arguments=dict(\n",
        "            waveform_approximant='SEOBNRv4_opt',\n",
        "            reference_frequency=50.0,\n",
        "            minimum_frequency=20.0\n",
        "        )\n",
        "    )\n",
        "\n",
        "    priors = bilby.gw.prior.BBHPriorDict()\n",
        "    # Set a prior on chirp_mass and fix mass_ratio\n",
        "    priors['chirp_mass'] = bilby.core.prior.Uniform(\n",
        "        name='chirp_mass',\n",
        "        minimum=event['mass'] * 0.8,\n",
        "        maximum=event['mass'] * 1.2\n",
        "    )\n",
        "    priors['mass_ratio'] = 1  # Fixing mass ratio to 1\n",
        "    priors['a_1'] = 0\n",
        "    priors['a_2'] = 0\n",
        "    priors['tilt_1'] = 0\n",
        "    priors['tilt_2'] = 0\n",
        "    priors['phi_12'] = 0\n",
        "    priors['phi_jl'] = 0\n",
        "    priors['psi'] = 0\n",
        "    priors['ra'] = 0\n",
        "    priors['dec'] = 0\n",
        "    priors['geocent_time'] = bilby.core.prior.Uniform(\n",
        "        event['time'] - 0.1, event['time'] + 0.1, name=\"geocent_time\"\n",
        "    )\n",
        "\n",
        "\n",
        "    likelihood = bilby.gw.likelihood.GravitationalWaveTransient(\n",
        "        interferometers=[ifo],\n",
        "        waveform_generator=waveform_generator,\n",
        "        priors=priors,\n",
        "        time_marginalization=False, # Time is a parameter, so no marginalization\n",
        "        phase_marginalization=True,\n",
        "        distance_marginalization=True,\n",
        "    )\n",
        "\n",
        "    result = bilby.run_sampler(\n",
        "        likelihood=likelihood,\n",
        "        priors=priors,\n",
        "        sampler='dynesty',\n",
        "        npoints=100,\n",
        "        outdir=f\"event_{event['time']}\",\n",
        "        label=f\"mass_{event['mass']}\",\n",
        "        clean=True\n",
        "    )\n",
        "\n",
        "    result.plot_corner()"
      ],
      "execution_count": 9,
      "outputs": [
        {
          "output_type": "stream",
          "name": "stderr",
          "text": [
            "09:12 bilby INFO    : Reading data from frame file challenge3.gwf\n",
            "09:12 bilby INFO    : Successfully loaded L1:CHALLENGE3.\n",
            "09:12 bilby INFO    : Waveform generator initiated with\n",
            "  frequency_domain_source_model: bilby.gw.source.lal_binary_black_hole\n",
            "  time_domain_source_model: None\n",
            "  parameter_conversion: bilby.gw.conversion.convert_to_lal_binary_black_hole_parameters\n",
            "09:12 bilby INFO    : No prior given, using default BBH priors in /usr/local/lib/python3.11/dist-packages/bilby/gw/prior_files/precessing_spins_bbh.prior.\n",
            "09:12 bilby INFO    : Distance marginalisation file .distance_marginalization_lookup.npz does not exist\n",
            "09:12 bilby INFO    : Building lookup table for distance marginalisation.\n"
          ]
        },
        {
          "output_type": "display_data",
          "data": {
            "text/plain": [
              "  0%|          | 0/400 [00:00<?, ?it/s]"
            ],
            "application/vnd.jupyter.widget-view+json": {
              "version_major": 2,
              "version_minor": 0,
              "model_id": "4f7bd1981bda43e39413ade5c610cd2a"
            }
          },
          "metadata": {}
        },
        {
          "output_type": "stream",
          "name": "stderr",
          "text": [
            "09:14 bilby INFO    : Running for label 'mass_10', output will be saved to 'event_2484.0'\n",
            "09:14 bilby INFO    : Using lal version 7.6.1\n",
            "09:14 bilby INFO    : Using lal git version Branch: None;Tag: lalsuite-v7.25;Id: fafc22fe7c166517798534eeca175f27a66e0138;;Builder: Unknown User <>;Repository status: CLEAN: All modifications committed\n",
            "09:14 bilby INFO    : Using lalsimulation version 6.1.0\n",
            "09:14 bilby INFO    : Using lalsimulation git version Branch: None;Tag: lalsuite-v7.25;Id: fafc22fe7c166517798534eeca175f27a66e0138;;Builder: Unknown User <>;Repository status: CLEAN: All modifications committed\n",
            "09:14 bilby INFO    : Analysis priors:\n",
            "09:14 bilby INFO    : chirp_mass=Uniform(minimum=8.0, maximum=12.0, name='chirp_mass', latex_label='$\\\\mathcal{M}$', unit=None, boundary=None)\n",
            "09:14 bilby INFO    : theta_jn=Sine(minimum=0, maximum=3.141592653589793, name='theta_jn', latex_label='$\\\\theta_{JN}$', unit=None, boundary=None)\n",
            "09:14 bilby INFO    : geocent_time=Uniform(minimum=2483.9, maximum=2484.1, name='geocent_time', latex_label='$t_c$', unit=None, boundary=None)\n",
            "09:14 bilby INFO    : mass_1=Constraint(minimum=5, maximum=100, name='mass_1', latex_label='$m_1$', unit=None)\n",
            "09:14 bilby INFO    : mass_2=Constraint(minimum=5, maximum=100, name='mass_2', latex_label='$m_2$', unit=None)\n",
            "09:14 bilby INFO    : mass_ratio=1\n",
            "09:14 bilby INFO    : luminosity_distance=3382.9535676089\n",
            "09:14 bilby INFO    : dec=0\n",
            "09:14 bilby INFO    : ra=0\n",
            "09:14 bilby INFO    : psi=0\n",
            "09:14 bilby INFO    : phase=0.0\n",
            "09:14 bilby INFO    : a_1=0\n",
            "09:14 bilby INFO    : a_2=0\n",
            "09:14 bilby INFO    : tilt_1=0\n",
            "09:14 bilby INFO    : tilt_2=0\n",
            "09:14 bilby INFO    : phi_12=0\n",
            "09:14 bilby INFO    : phi_jl=0\n",
            "09:14 bilby INFO    : Analysis likelihood class: <class 'bilby.gw.likelihood.base.GravitationalWaveTransient'>\n",
            "09:14 bilby INFO    : Analysis likelihood noise evidence: -540814.1254577487\n",
            "09:14 bilby INFO    : Single likelihood evaluation took 1.158e-01 s\n",
            "09:14 bilby INFO    : Using sampler Dynesty with kwargs {'nlive': 100, 'bound': 'live', 'sample': 'act-walk', 'periodic': None, 'reflective': None, 'update_interval': 600, 'first_update': None, 'npdim': None, 'rstate': None, 'queue_size': 1, 'pool': None, 'use_pool': None, 'live_points': None, 'logl_args': None, 'logl_kwargs': None, 'ptform_args': None, 'ptform_kwargs': None, 'gradient': None, 'grad_args': None, 'grad_kwargs': None, 'compute_jac': False, 'enlarge': None, 'bootstrap': None, 'walks': 100, 'facc': 0.2, 'slices': None, 'fmove': 0.9, 'max_move': 100, 'update_func': None, 'ncdim': None, 'blob': False, 'save_history': False, 'history_filename': None, 'maxiter': None, 'maxcall': None, 'dlogz': 0.1, 'logl_max': inf, 'n_effective': None, 'add_live': True, 'print_progress': True, 'print_func': <bound method Dynesty._print_func of <bilby.core.sampler.dynesty.Dynesty object at 0x7b40bef04290>>, 'save_bounds': False, 'checkpoint_file': None, 'checkpoint_every': 60, 'resume': False, 'seed': None}\n",
            "09:14 bilby INFO    : Checkpoint every check_point_delta_t = 600s\n",
            "09:14 bilby INFO    : Using dynesty version 2.1.5\n",
            "09:14 bilby INFO    : Using the bilby-implemented act-walk sampling tracking the autocorrelation function and thinning by 2 with maximum length 10000\n",
            "09:14 bilby INFO    : Generating initial points from the prior\n"
          ]
        },
        {
          "output_type": "display_data",
          "data": {
            "text/plain": [
              "1it [00:00, ?it/s]"
            ],
            "application/vnd.jupyter.widget-view+json": {
              "version_major": 2,
              "version_minor": 0,
              "model_id": "80642e9d1abc453ebace5729597cad9b"
            }
          },
          "metadata": {}
        },
        {
          "output_type": "stream",
          "name": "stderr",
          "text": [
            "09:25 bilby INFO    : Written checkpoint file event_2484.0/mass_10_resume.pickle\n",
            "/usr/local/lib/python3.11/dist-packages/dynesty/plotting.py:786: UserWarning: Attempting to set identical low and high ylims makes transformation singular; automatically expanding.\n",
            "  ax.set_ylim([0., max(y0) * 1.05])\n",
            "/usr/local/lib/python3.11/dist-packages/dynesty/plotting.py:786: UserWarning: Attempting to set identical low and high ylims makes transformation singular; automatically expanding.\n",
            "  ax.set_ylim([0., max(y0) * 1.05])\n",
            "09:43 bilby INFO    : Written checkpoint file event_2484.0/mass_10_resume.pickle\n",
            "09:54 bilby INFO    : Written checkpoint file event_2484.0/mass_10_resume.pickle\n",
            "/usr/local/lib/python3.11/dist-packages/dynesty/plotting.py:252: RuntimeWarning: overflow encountered in exp\n",
            "  np.exp(logwt), logz if logplot else np.exp(logz)\n",
            "/usr/local/lib/python3.11/dist-packages/dynesty/plotting.py:282: RuntimeWarning: overflow encountered in exp\n",
            "  zspan = (0., 1.05 * np.exp(logz[-1] + 3. * logzerr[-1]))\n",
            "09:54 bilby WARNING : Axis limits cannot be NaN or Inf\n",
            "09:54 bilby WARNING : Failed to create dynesty run plot at checkpoint\n",
            "10:05 bilby INFO    : Written checkpoint file event_2484.0/mass_10_resume.pickle\n",
            "/usr/local/lib/python3.11/dist-packages/dynesty/plotting.py:252: RuntimeWarning: overflow encountered in exp\n",
            "  np.exp(logwt), logz if logplot else np.exp(logz)\n",
            "/usr/local/lib/python3.11/dist-packages/dynesty/plotting.py:282: RuntimeWarning: overflow encountered in exp\n",
            "  zspan = (0., 1.05 * np.exp(logz[-1] + 3. * logzerr[-1]))\n",
            "10:05 bilby WARNING : Axis limits cannot be NaN or Inf\n",
            "10:05 bilby WARNING : Failed to create dynesty run plot at checkpoint\n",
            "10:16 bilby INFO    : Written checkpoint file event_2484.0/mass_10_resume.pickle\n",
            "/usr/local/lib/python3.11/dist-packages/dynesty/plotting.py:252: RuntimeWarning: overflow encountered in exp\n",
            "  np.exp(logwt), logz if logplot else np.exp(logz)\n",
            "/usr/local/lib/python3.11/dist-packages/dynesty/plotting.py:282: RuntimeWarning: overflow encountered in exp\n",
            "  zspan = (0., 1.05 * np.exp(logz[-1] + 3. * logzerr[-1]))\n",
            "10:16 bilby WARNING : Axis limits cannot be NaN or Inf\n",
            "10:16 bilby WARNING : Failed to create dynesty run plot at checkpoint\n",
            "10:26 bilby INFO    : Written checkpoint file event_2484.0/mass_10_resume.pickle\n",
            "/usr/local/lib/python3.11/dist-packages/dynesty/plotting.py:252: RuntimeWarning: overflow encountered in exp\n",
            "  np.exp(logwt), logz if logplot else np.exp(logz)\n",
            "/usr/local/lib/python3.11/dist-packages/dynesty/plotting.py:282: RuntimeWarning: overflow encountered in exp\n",
            "  zspan = (0., 1.05 * np.exp(logz[-1] + 3. * logzerr[-1]))\n",
            "10:26 bilby WARNING : Axis limits cannot be NaN or Inf\n",
            "10:26 bilby WARNING : Failed to create dynesty run plot at checkpoint\n",
            "10:37 bilby INFO    : Written checkpoint file event_2484.0/mass_10_resume.pickle\n",
            "/usr/local/lib/python3.11/dist-packages/dynesty/plotting.py:252: RuntimeWarning: overflow encountered in exp\n",
            "  np.exp(logwt), logz if logplot else np.exp(logz)\n",
            "/usr/local/lib/python3.11/dist-packages/dynesty/plotting.py:282: RuntimeWarning: overflow encountered in exp\n",
            "  zspan = (0., 1.05 * np.exp(logz[-1] + 3. * logzerr[-1]))\n",
            "10:37 bilby WARNING : Axis limits cannot be NaN or Inf\n",
            "10:37 bilby WARNING : Failed to create dynesty run plot at checkpoint\n",
            "10:48 bilby INFO    : Written checkpoint file event_2484.0/mass_10_resume.pickle\n",
            "/usr/local/lib/python3.11/dist-packages/dynesty/plotting.py:252: RuntimeWarning: overflow encountered in exp\n",
            "  np.exp(logwt), logz if logplot else np.exp(logz)\n",
            "/usr/local/lib/python3.11/dist-packages/dynesty/plotting.py:282: RuntimeWarning: overflow encountered in exp\n",
            "  zspan = (0., 1.05 * np.exp(logz[-1] + 3. * logzerr[-1]))\n",
            "10:48 bilby WARNING : Axis limits cannot be NaN or Inf\n",
            "10:48 bilby WARNING : Failed to create dynesty run plot at checkpoint\n",
            "10:58 bilby INFO    : Written checkpoint file event_2484.0/mass_10_resume.pickle\n",
            "/usr/local/lib/python3.11/dist-packages/dynesty/plotting.py:252: RuntimeWarning: overflow encountered in exp\n",
            "  np.exp(logwt), logz if logplot else np.exp(logz)\n",
            "/usr/local/lib/python3.11/dist-packages/dynesty/plotting.py:282: RuntimeWarning: overflow encountered in exp\n",
            "  zspan = (0., 1.05 * np.exp(logz[-1] + 3. * logzerr[-1]))\n",
            "10:58 bilby WARNING : Axis limits cannot be NaN or Inf\n",
            "10:58 bilby WARNING : Failed to create dynesty run plot at checkpoint\n",
            "11:11 bilby INFO    : Written checkpoint file event_2484.0/mass_10_resume.pickle\n",
            "/usr/local/lib/python3.11/dist-packages/dynesty/plotting.py:252: RuntimeWarning: overflow encountered in exp\n",
            "  np.exp(logwt), logz if logplot else np.exp(logz)\n",
            "/usr/local/lib/python3.11/dist-packages/dynesty/plotting.py:282: RuntimeWarning: overflow encountered in exp\n",
            "  zspan = (0., 1.05 * np.exp(logz[-1] + 3. * logzerr[-1]))\n",
            "11:11 bilby WARNING : Axis limits cannot be NaN or Inf\n",
            "11:11 bilby WARNING : Failed to create dynesty run plot at checkpoint\n",
            "11:23 bilby INFO    : Written checkpoint file event_2484.0/mass_10_resume.pickle\n",
            "/usr/local/lib/python3.11/dist-packages/dynesty/plotting.py:252: RuntimeWarning: overflow encountered in exp\n",
            "  np.exp(logwt), logz if logplot else np.exp(logz)\n",
            "/usr/local/lib/python3.11/dist-packages/dynesty/plotting.py:282: RuntimeWarning: overflow encountered in exp\n",
            "  zspan = (0., 1.05 * np.exp(logz[-1] + 3. * logzerr[-1]))\n",
            "11:23 bilby WARNING : Axis limits cannot be NaN or Inf\n",
            "11:23 bilby WARNING : Failed to create dynesty run plot at checkpoint\n",
            "11:32 bilby INFO    : Written checkpoint file event_2484.0/mass_10_resume.pickle\n",
            "/usr/local/lib/python3.11/dist-packages/dynesty/plotting.py:252: RuntimeWarning: overflow encountered in exp\n",
            "  np.exp(logwt), logz if logplot else np.exp(logz)\n",
            "/usr/local/lib/python3.11/dist-packages/dynesty/plotting.py:282: RuntimeWarning: overflow encountered in exp\n",
            "  zspan = (0., 1.05 * np.exp(logz[-1] + 3. * logzerr[-1]))\n",
            "11:32 bilby WARNING : Axis limits cannot be NaN or Inf\n",
            "11:32 bilby WARNING : Failed to create dynesty run plot at checkpoint\n",
            "11:32 bilby INFO    : Rejection sampling nested samples to obtain 331 posterior samples\n",
            "11:32 bilby INFO    : Sampling time: 2:18:08.570674\n",
            "11:32 bilby INFO    : Summary of results:\n",
            "nsamples: 331\n",
            "ln_noise_evidence: -540814.125\n",
            "ln_evidence: -540040.800 +/-  0.428\n",
            "ln_bayes_factor: 773.326 +/-  0.428\n",
            "\n"
          ]
        },
        {
          "output_type": "stream",
          "name": "stdout",
          "text": [
            "\n"
          ]
        },
        {
          "output_type": "stream",
          "name": "stderr",
          "text": [
            "11:32 bilby INFO    : Reading data from frame file challenge3.gwf\n",
            "11:32 bilby INFO    : Successfully loaded L1:CHALLENGE3.\n",
            "11:33 bilby INFO    : Waveform generator initiated with\n",
            "  frequency_domain_source_model: bilby.gw.source.lal_binary_black_hole\n",
            "  time_domain_source_model: None\n",
            "  parameter_conversion: bilby.gw.conversion.convert_to_lal_binary_black_hole_parameters\n",
            "11:33 bilby INFO    : No prior given, using default BBH priors in /usr/local/lib/python3.11/dist-packages/bilby/gw/prior_files/precessing_spins_bbh.prior.\n",
            "11:33 bilby INFO    : Loaded distance marginalisation lookup table from .distance_marginalization_lookup.npz.\n",
            "11:33 bilby INFO    : Running for label 'mass_17', output will be saved to 'event_1638.2'\n",
            "11:33 bilby INFO    : Using lal version 7.6.1\n",
            "11:33 bilby INFO    : Using lal git version Branch: None;Tag: lalsuite-v7.25;Id: fafc22fe7c166517798534eeca175f27a66e0138;;Builder: Unknown User <>;Repository status: CLEAN: All modifications committed\n",
            "11:33 bilby INFO    : Using lalsimulation version 6.1.0\n",
            "11:33 bilby INFO    : Using lalsimulation git version Branch: None;Tag: lalsuite-v7.25;Id: fafc22fe7c166517798534eeca175f27a66e0138;;Builder: Unknown User <>;Repository status: CLEAN: All modifications committed\n",
            "11:33 bilby INFO    : Analysis priors:\n",
            "11:33 bilby INFO    : chirp_mass=Uniform(minimum=13.600000000000001, maximum=20.4, name='chirp_mass', latex_label='$\\\\mathcal{M}$', unit=None, boundary=None)\n",
            "11:33 bilby INFO    : theta_jn=Sine(minimum=0, maximum=3.141592653589793, name='theta_jn', latex_label='$\\\\theta_{JN}$', unit=None, boundary=None)\n",
            "11:33 bilby INFO    : geocent_time=Uniform(minimum=1638.1000000000001, maximum=1638.3, name='geocent_time', latex_label='$t_c$', unit=None, boundary=None)\n",
            "11:33 bilby INFO    : mass_1=Constraint(minimum=5, maximum=100, name='mass_1', latex_label='$m_1$', unit=None)\n",
            "11:33 bilby INFO    : mass_2=Constraint(minimum=5, maximum=100, name='mass_2', latex_label='$m_2$', unit=None)\n",
            "11:33 bilby INFO    : mass_ratio=1\n",
            "11:33 bilby INFO    : luminosity_distance=3382.9535676089\n",
            "11:33 bilby INFO    : dec=0\n",
            "11:33 bilby INFO    : ra=0\n",
            "11:33 bilby INFO    : psi=0\n",
            "11:33 bilby INFO    : phase=0.0\n",
            "11:33 bilby INFO    : a_1=0\n",
            "11:33 bilby INFO    : a_2=0\n",
            "11:33 bilby INFO    : tilt_1=0\n",
            "11:33 bilby INFO    : tilt_2=0\n",
            "11:33 bilby INFO    : phi_12=0\n",
            "11:33 bilby INFO    : phi_jl=0\n",
            "11:33 bilby INFO    : Analysis likelihood class: <class 'bilby.gw.likelihood.base.GravitationalWaveTransient'>\n",
            "11:33 bilby INFO    : Analysis likelihood noise evidence: -540867.9800978941\n",
            "11:33 bilby INFO    : Single likelihood evaluation took 2.903e-01 s\n",
            "11:33 bilby INFO    : Using sampler Dynesty with kwargs {'nlive': 100, 'bound': 'live', 'sample': 'act-walk', 'periodic': None, 'reflective': None, 'update_interval': 600, 'first_update': None, 'npdim': None, 'rstate': None, 'queue_size': 1, 'pool': None, 'use_pool': None, 'live_points': None, 'logl_args': None, 'logl_kwargs': None, 'ptform_args': None, 'ptform_kwargs': None, 'gradient': None, 'grad_args': None, 'grad_kwargs': None, 'compute_jac': False, 'enlarge': None, 'bootstrap': None, 'walks': 100, 'facc': 0.2, 'slices': None, 'fmove': 0.9, 'max_move': 100, 'update_func': None, 'ncdim': None, 'blob': False, 'save_history': False, 'history_filename': None, 'maxiter': None, 'maxcall': None, 'dlogz': 0.1, 'logl_max': inf, 'n_effective': None, 'add_live': True, 'print_progress': True, 'print_func': <bound method Dynesty._print_func of <bilby.core.sampler.dynesty.Dynesty object at 0x7b4092d5dad0>>, 'save_bounds': False, 'checkpoint_file': None, 'checkpoint_every': 60, 'resume': False, 'seed': None}\n",
            "11:33 bilby INFO    : Checkpoint every check_point_delta_t = 600s\n",
            "11:33 bilby INFO    : Using dynesty version 2.1.5\n",
            "11:33 bilby INFO    : Using the bilby-implemented act-walk sampling tracking the autocorrelation function and thinning by 2 with maximum length 10000\n",
            "11:33 bilby INFO    : Generating initial points from the prior\n"
          ]
        },
        {
          "output_type": "display_data",
          "data": {
            "text/plain": [
              "1it [00:00, ?it/s]"
            ],
            "application/vnd.jupyter.widget-view+json": {
              "version_major": 2,
              "version_minor": 0,
              "model_id": "77a2b386b87c4201a4dd1752c38ea71c"
            }
          },
          "metadata": {}
        },
        {
          "output_type": "stream",
          "name": "stderr",
          "text": [
            "11:44 bilby INFO    : Written checkpoint file event_1638.2/mass_17_resume.pickle\n",
            "11:44 bilby WARNING : The data appears to lie in a lower-dimensional subspace of the space in which it is expressed. This has resulted in a singular data covariance matrix, which cannot be treated using the algorithms implemented in `gaussian_kde`. Consider performing principle component analysis / dimensionality reduction and using `gaussian_kde` with the transformed data.\n",
            "11:44 bilby WARNING : Failed to create dynesty state plot at checkpoint\n",
            "11:44 bilby WARNING : The data appears to lie in a lower-dimensional subspace of the space in which it is expressed. This has resulted in a singular data covariance matrix, which cannot be treated using the algorithms implemented in `gaussian_kde`. Consider performing principle component analysis / dimensionality reduction and using `gaussian_kde` with the transformed data.\n",
            "11:44 bilby WARNING : Failed to create dynesty unit state plot at checkpoint\n",
            "/usr/local/lib/python3.11/dist-packages/dynesty/plotting.py:252: RuntimeWarning: overflow encountered in exp\n",
            "  np.exp(logwt), logz if logplot else np.exp(logz)\n",
            "11:44 bilby WARNING : The data appears to lie in a lower-dimensional subspace of the space in which it is expressed. This has resulted in a singular data covariance matrix, which cannot be treated using the algorithms implemented in `gaussian_kde`. Consider performing principle component analysis / dimensionality reduction and using `gaussian_kde` with the transformed data.\n",
            "11:44 bilby WARNING : Failed to create dynesty run plot at checkpoint\n",
            "11:54 bilby INFO    : Written checkpoint file event_1638.2/mass_17_resume.pickle\n",
            "/usr/local/lib/python3.11/dist-packages/dynesty/plotting.py:252: RuntimeWarning: overflow encountered in exp\n",
            "  np.exp(logwt), logz if logplot else np.exp(logz)\n",
            "/usr/local/lib/python3.11/dist-packages/dynesty/plotting.py:282: RuntimeWarning: overflow encountered in exp\n",
            "  zspan = (0., 1.05 * np.exp(logz[-1] + 3. * logzerr[-1]))\n",
            "11:54 bilby WARNING : Axis limits cannot be NaN or Inf\n",
            "11:54 bilby WARNING : Failed to create dynesty run plot at checkpoint\n",
            "12:05 bilby INFO    : Written checkpoint file event_1638.2/mass_17_resume.pickle\n",
            "/usr/local/lib/python3.11/dist-packages/dynesty/plotting.py:252: RuntimeWarning: overflow encountered in exp\n",
            "  np.exp(logwt), logz if logplot else np.exp(logz)\n",
            "/usr/local/lib/python3.11/dist-packages/dynesty/plotting.py:282: RuntimeWarning: overflow encountered in exp\n",
            "  zspan = (0., 1.05 * np.exp(logz[-1] + 3. * logzerr[-1]))\n",
            "12:05 bilby WARNING : Axis limits cannot be NaN or Inf\n",
            "12:05 bilby WARNING : Failed to create dynesty run plot at checkpoint\n",
            "12:17 bilby INFO    : Written checkpoint file event_1638.2/mass_17_resume.pickle\n",
            "/usr/local/lib/python3.11/dist-packages/dynesty/plotting.py:252: RuntimeWarning: overflow encountered in exp\n",
            "  np.exp(logwt), logz if logplot else np.exp(logz)\n",
            "/usr/local/lib/python3.11/dist-packages/dynesty/plotting.py:282: RuntimeWarning: overflow encountered in exp\n",
            "  zspan = (0., 1.05 * np.exp(logz[-1] + 3. * logzerr[-1]))\n",
            "12:17 bilby WARNING : Axis limits cannot be NaN or Inf\n",
            "12:17 bilby WARNING : Failed to create dynesty run plot at checkpoint\n",
            "12:28 bilby INFO    : Written checkpoint file event_1638.2/mass_17_resume.pickle\n",
            "/usr/local/lib/python3.11/dist-packages/dynesty/plotting.py:252: RuntimeWarning: overflow encountered in exp\n",
            "  np.exp(logwt), logz if logplot else np.exp(logz)\n",
            "/usr/local/lib/python3.11/dist-packages/dynesty/plotting.py:282: RuntimeWarning: overflow encountered in exp\n",
            "  zspan = (0., 1.05 * np.exp(logz[-1] + 3. * logzerr[-1]))\n",
            "12:28 bilby WARNING : Axis limits cannot be NaN or Inf\n",
            "12:28 bilby WARNING : Failed to create dynesty run plot at checkpoint\n",
            "12:40 bilby INFO    : Written checkpoint file event_1638.2/mass_17_resume.pickle\n",
            "/usr/local/lib/python3.11/dist-packages/dynesty/plotting.py:252: RuntimeWarning: overflow encountered in exp\n",
            "  np.exp(logwt), logz if logplot else np.exp(logz)\n",
            "/usr/local/lib/python3.11/dist-packages/dynesty/plotting.py:282: RuntimeWarning: overflow encountered in exp\n",
            "  zspan = (0., 1.05 * np.exp(logz[-1] + 3. * logzerr[-1]))\n",
            "12:40 bilby WARNING : Axis limits cannot be NaN or Inf\n",
            "12:40 bilby WARNING : Failed to create dynesty run plot at checkpoint\n",
            "12:51 bilby INFO    : Written checkpoint file event_1638.2/mass_17_resume.pickle\n",
            "/usr/local/lib/python3.11/dist-packages/dynesty/plotting.py:252: RuntimeWarning: overflow encountered in exp\n",
            "  np.exp(logwt), logz if logplot else np.exp(logz)\n",
            "/usr/local/lib/python3.11/dist-packages/dynesty/plotting.py:282: RuntimeWarning: overflow encountered in exp\n",
            "  zspan = (0., 1.05 * np.exp(logz[-1] + 3. * logzerr[-1]))\n",
            "12:51 bilby WARNING : Axis limits cannot be NaN or Inf\n",
            "12:51 bilby WARNING : Failed to create dynesty run plot at checkpoint\n",
            "13:02 bilby INFO    : Written checkpoint file event_1638.2/mass_17_resume.pickle\n",
            "/usr/local/lib/python3.11/dist-packages/dynesty/plotting.py:252: RuntimeWarning: overflow encountered in exp\n",
            "  np.exp(logwt), logz if logplot else np.exp(logz)\n",
            "/usr/local/lib/python3.11/dist-packages/dynesty/plotting.py:282: RuntimeWarning: overflow encountered in exp\n",
            "  zspan = (0., 1.05 * np.exp(logz[-1] + 3. * logzerr[-1]))\n",
            "13:02 bilby WARNING : Axis limits cannot be NaN or Inf\n",
            "13:02 bilby WARNING : Failed to create dynesty run plot at checkpoint\n",
            "13:14 bilby INFO    : Written checkpoint file event_1638.2/mass_17_resume.pickle\n",
            "/usr/local/lib/python3.11/dist-packages/dynesty/plotting.py:252: RuntimeWarning: overflow encountered in exp\n",
            "  np.exp(logwt), logz if logplot else np.exp(logz)\n",
            "/usr/local/lib/python3.11/dist-packages/dynesty/plotting.py:282: RuntimeWarning: overflow encountered in exp\n",
            "  zspan = (0., 1.05 * np.exp(logz[-1] + 3. * logzerr[-1]))\n",
            "13:14 bilby WARNING : Axis limits cannot be NaN or Inf\n",
            "13:14 bilby WARNING : Failed to create dynesty run plot at checkpoint\n",
            "13:14 bilby INFO    : Run interrupted by signal 2: checkpoint and exit on 130\n",
            "13:14 bilby INFO    : Written checkpoint file event_1638.2/mass_17_resume.pickle\n"
          ]
        },
        {
          "output_type": "stream",
          "name": "stdout",
          "text": [
            "Exception while calling loglikelihood function:\n",
            "  params: [1.48130292e+01 8.08651351e-01 1.63817347e+03]\n",
            "  args: []\n",
            "  kwargs: {}\n",
            "  exception:\n"
          ]
        },
        {
          "output_type": "stream",
          "name": "stderr",
          "text": [
            "Traceback (most recent call last):\n",
            "  File \"/usr/local/lib/python3.11/dist-packages/dynesty/dynesty.py\", line 913, in __call__\n",
            "    return self.func(np.asarray(x).copy(), *self.args, **self.kwargs)\n",
            "           ^^^^^^^^^^^^^^^^^^^^^^^^^^^^^^^^^^^^^^^^^^^^^^^^^^^^^^^^^^\n",
            "  File \"/usr/local/lib/python3.11/dist-packages/bilby/core/sampler/dynesty.py\", line 54, in _log_likelihood_wrapper\n",
            "    return _sampling_convenience_dump.likelihood.log_likelihood_ratio()\n",
            "           ^^^^^^^^^^^^^^^^^^^^^^^^^^^^^^^^^^^^^^^^^^^^^^^^^^^^^^^^^^^^\n",
            "  File \"/usr/local/lib/python3.11/dist-packages/bilby/gw/likelihood/base.py\", line 408, in log_likelihood_ratio\n",
            "    self.waveform_generator.frequency_domain_strain(self.parameters)\n",
            "  File \"/usr/local/lib/python3.11/dist-packages/bilby/gw/waveform_generator.py\", line 131, in frequency_domain_strain\n",
            "    return self._calculate_strain(model=self.frequency_domain_source_model,\n",
            "           ^^^^^^^^^^^^^^^^^^^^^^^^^^^^^^^^^^^^^^^^^^^^^^^^^^^^^^^^^^^^^^^^\n",
            "  File \"/usr/local/lib/python3.11/dist-packages/bilby/gw/waveform_generator.py\", line 176, in _calculate_strain\n",
            "    model_strain = self._strain_from_model(model_data_points, model)\n",
            "                   ^^^^^^^^^^^^^^^^^^^^^^^^^^^^^^^^^^^^^^^^^^^^^^^^^\n",
            "  File \"/usr/local/lib/python3.11/dist-packages/bilby/gw/waveform_generator.py\", line 189, in _strain_from_model\n",
            "    return model(model_data_points, **self.parameters)\n",
            "           ^^^^^^^^^^^^^^^^^^^^^^^^^^^^^^^^^^^^^^^^^^^\n",
            "  File \"/usr/local/lib/python3.11/dist-packages/bilby/gw/source.py\", line 330, in lal_binary_black_hole\n",
            "    return _base_lal_cbc_fd_waveform(\n",
            "           ^^^^^^^^^^^^^^^^^^^^^^^^^^\n",
            "  File \"/usr/local/lib/python3.11/dist-packages/bilby/gw/source.py\", line 622, in _base_lal_cbc_fd_waveform\n",
            "    hplus, hcross = wf_func(\n",
            "                    ^^^^^^^^\n",
            "  File \"/usr/local/lib/python3.11/dist-packages/bilby/gw/utils.py\", line 660, in lalsim_SimInspiralFD\n",
            "    return SimInspiralFD(*args, waveform_dictionary, approximant)\n",
            "           ^^^^^^^^^^^^^^^^^^^^^^^^^^^^^^^^^^^^^^^^^^^^^^^^^^^^^^\n",
            "  File \"/usr/local/lib/python3.11/dist-packages/bilby/core/sampler/dynesty.py\", line 796, in write_current_state_and_exit\n",
            "    super(Dynesty, self).write_current_state_and_exit(signum=signum, frame=frame)\n",
            "  File \"/usr/local/lib/python3.11/dist-packages/bilby/core/sampler/base_sampler.py\", line 749, in write_current_state_and_exit\n",
            "    sys.exit(self.exit_code)\n",
            "SystemExit: 130\n"
          ]
        },
        {
          "output_type": "error",
          "ename": "SystemExit",
          "evalue": "130",
          "traceback": [
            "An exception has occurred, use %tb to see the full traceback.\n",
            "\u001b[0;31mSystemExit\u001b[0m\u001b[0;31m:\u001b[0m 130\n"
          ]
        },
        {
          "output_type": "stream",
          "name": "stderr",
          "text": [
            "/usr/local/lib/python3.11/dist-packages/IPython/core/interactiveshell.py:3561: UserWarning: To exit: use 'exit', 'quit', or Ctrl-D.\n",
            "  warn(\"To exit: use 'exit', 'quit', or Ctrl-D.\", stacklevel=1)\n"
          ]
        }
      ]
    },
    {
      "cell_type": "code",
      "source": [],
      "metadata": {
        "id": "b8iNlpSgbqIc"
      },
      "execution_count": null,
      "outputs": []
    },
    {
      "cell_type": "code",
      "metadata": {
        "id": "b295a093"
      },
      "source": [
        "result.plot_corner()"
      ],
      "execution_count": null,
      "outputs": []
    }
  ],
  "metadata": {
    "colab": {
      "provenance": [],
      "authorship_tag": "ABX9TyNt0+Z1eD0zLB5b5IybvxhB",
      "include_colab_link": true
    },
    "kernelspec": {
      "display_name": "Python 3",
      "name": "python3"
    },
    "language_info": {
      "name": "python"
    },
    "widgets": {
      "application/vnd.jupyter.widget-state+json": {
        "4f7bd1981bda43e39413ade5c610cd2a": {
          "model_module": "@jupyter-widgets/controls",
          "model_name": "HBoxModel",
          "model_module_version": "1.5.0",
          "state": {
            "_dom_classes": [],
            "_model_module": "@jupyter-widgets/controls",
            "_model_module_version": "1.5.0",
            "_model_name": "HBoxModel",
            "_view_count": null,
            "_view_module": "@jupyter-widgets/controls",
            "_view_module_version": "1.5.0",
            "_view_name": "HBoxView",
            "box_style": "",
            "children": [
              "IPY_MODEL_835a4615ced241678eab54b5398263f9",
              "IPY_MODEL_b4562f5774104d7b97e723cbb0ed4bc2",
              "IPY_MODEL_e9ceaddd5dec4f608e44819d4f4fd91e"
            ],
            "layout": "IPY_MODEL_f51ae491a6fe437cb812c21267661cc4"
          }
        },
        "835a4615ced241678eab54b5398263f9": {
          "model_module": "@jupyter-widgets/controls",
          "model_name": "HTMLModel",
          "model_module_version": "1.5.0",
          "state": {
            "_dom_classes": [],
            "_model_module": "@jupyter-widgets/controls",
            "_model_module_version": "1.5.0",
            "_model_name": "HTMLModel",
            "_view_count": null,
            "_view_module": "@jupyter-widgets/controls",
            "_view_module_version": "1.5.0",
            "_view_name": "HTMLView",
            "description": "",
            "description_tooltip": null,
            "layout": "IPY_MODEL_4a6e980d07034a4d86227b131f9c15a2",
            "placeholder": "​",
            "style": "IPY_MODEL_b5727854b5b947b18761934dadf0b800",
            "value": "100%"
          }
        },
        "b4562f5774104d7b97e723cbb0ed4bc2": {
          "model_module": "@jupyter-widgets/controls",
          "model_name": "FloatProgressModel",
          "model_module_version": "1.5.0",
          "state": {
            "_dom_classes": [],
            "_model_module": "@jupyter-widgets/controls",
            "_model_module_version": "1.5.0",
            "_model_name": "FloatProgressModel",
            "_view_count": null,
            "_view_module": "@jupyter-widgets/controls",
            "_view_module_version": "1.5.0",
            "_view_name": "ProgressView",
            "bar_style": "success",
            "description": "",
            "description_tooltip": null,
            "layout": "IPY_MODEL_3ba3c8b6fdbe41b2adbf63b2add9707f",
            "max": 400,
            "min": 0,
            "orientation": "horizontal",
            "style": "IPY_MODEL_f0793c7fa6a946e5aaba1cacf5b9663d",
            "value": 400
          }
        },
        "e9ceaddd5dec4f608e44819d4f4fd91e": {
          "model_module": "@jupyter-widgets/controls",
          "model_name": "HTMLModel",
          "model_module_version": "1.5.0",
          "state": {
            "_dom_classes": [],
            "_model_module": "@jupyter-widgets/controls",
            "_model_module_version": "1.5.0",
            "_model_name": "HTMLModel",
            "_view_count": null,
            "_view_module": "@jupyter-widgets/controls",
            "_view_module_version": "1.5.0",
            "_view_name": "HTMLView",
            "description": "",
            "description_tooltip": null,
            "layout": "IPY_MODEL_e2ca4bc6fb8c43bea200356fdc5be9c9",
            "placeholder": "​",
            "style": "IPY_MODEL_1dbf24a3b95f4e74a3269114bdb529ff",
            "value": " 400/400 [01:17&lt;00:00,  5.96it/s]"
          }
        },
        "f51ae491a6fe437cb812c21267661cc4": {
          "model_module": "@jupyter-widgets/base",
          "model_name": "LayoutModel",
          "model_module_version": "1.2.0",
          "state": {
            "_model_module": "@jupyter-widgets/base",
            "_model_module_version": "1.2.0",
            "_model_name": "LayoutModel",
            "_view_count": null,
            "_view_module": "@jupyter-widgets/base",
            "_view_module_version": "1.2.0",
            "_view_name": "LayoutView",
            "align_content": null,
            "align_items": null,
            "align_self": null,
            "border": null,
            "bottom": null,
            "display": null,
            "flex": null,
            "flex_flow": null,
            "grid_area": null,
            "grid_auto_columns": null,
            "grid_auto_flow": null,
            "grid_auto_rows": null,
            "grid_column": null,
            "grid_gap": null,
            "grid_row": null,
            "grid_template_areas": null,
            "grid_template_columns": null,
            "grid_template_rows": null,
            "height": null,
            "justify_content": null,
            "justify_items": null,
            "left": null,
            "margin": null,
            "max_height": null,
            "max_width": null,
            "min_height": null,
            "min_width": null,
            "object_fit": null,
            "object_position": null,
            "order": null,
            "overflow": null,
            "overflow_x": null,
            "overflow_y": null,
            "padding": null,
            "right": null,
            "top": null,
            "visibility": null,
            "width": null
          }
        },
        "4a6e980d07034a4d86227b131f9c15a2": {
          "model_module": "@jupyter-widgets/base",
          "model_name": "LayoutModel",
          "model_module_version": "1.2.0",
          "state": {
            "_model_module": "@jupyter-widgets/base",
            "_model_module_version": "1.2.0",
            "_model_name": "LayoutModel",
            "_view_count": null,
            "_view_module": "@jupyter-widgets/base",
            "_view_module_version": "1.2.0",
            "_view_name": "LayoutView",
            "align_content": null,
            "align_items": null,
            "align_self": null,
            "border": null,
            "bottom": null,
            "display": null,
            "flex": null,
            "flex_flow": null,
            "grid_area": null,
            "grid_auto_columns": null,
            "grid_auto_flow": null,
            "grid_auto_rows": null,
            "grid_column": null,
            "grid_gap": null,
            "grid_row": null,
            "grid_template_areas": null,
            "grid_template_columns": null,
            "grid_template_rows": null,
            "height": null,
            "justify_content": null,
            "justify_items": null,
            "left": null,
            "margin": null,
            "max_height": null,
            "max_width": null,
            "min_height": null,
            "min_width": null,
            "object_fit": null,
            "object_position": null,
            "order": null,
            "overflow": null,
            "overflow_x": null,
            "overflow_y": null,
            "padding": null,
            "right": null,
            "top": null,
            "visibility": null,
            "width": null
          }
        },
        "b5727854b5b947b18761934dadf0b800": {
          "model_module": "@jupyter-widgets/controls",
          "model_name": "DescriptionStyleModel",
          "model_module_version": "1.5.0",
          "state": {
            "_model_module": "@jupyter-widgets/controls",
            "_model_module_version": "1.5.0",
            "_model_name": "DescriptionStyleModel",
            "_view_count": null,
            "_view_module": "@jupyter-widgets/base",
            "_view_module_version": "1.2.0",
            "_view_name": "StyleView",
            "description_width": ""
          }
        },
        "3ba3c8b6fdbe41b2adbf63b2add9707f": {
          "model_module": "@jupyter-widgets/base",
          "model_name": "LayoutModel",
          "model_module_version": "1.2.0",
          "state": {
            "_model_module": "@jupyter-widgets/base",
            "_model_module_version": "1.2.0",
            "_model_name": "LayoutModel",
            "_view_count": null,
            "_view_module": "@jupyter-widgets/base",
            "_view_module_version": "1.2.0",
            "_view_name": "LayoutView",
            "align_content": null,
            "align_items": null,
            "align_self": null,
            "border": null,
            "bottom": null,
            "display": null,
            "flex": null,
            "flex_flow": null,
            "grid_area": null,
            "grid_auto_columns": null,
            "grid_auto_flow": null,
            "grid_auto_rows": null,
            "grid_column": null,
            "grid_gap": null,
            "grid_row": null,
            "grid_template_areas": null,
            "grid_template_columns": null,
            "grid_template_rows": null,
            "height": null,
            "justify_content": null,
            "justify_items": null,
            "left": null,
            "margin": null,
            "max_height": null,
            "max_width": null,
            "min_height": null,
            "min_width": null,
            "object_fit": null,
            "object_position": null,
            "order": null,
            "overflow": null,
            "overflow_x": null,
            "overflow_y": null,
            "padding": null,
            "right": null,
            "top": null,
            "visibility": null,
            "width": null
          }
        },
        "f0793c7fa6a946e5aaba1cacf5b9663d": {
          "model_module": "@jupyter-widgets/controls",
          "model_name": "ProgressStyleModel",
          "model_module_version": "1.5.0",
          "state": {
            "_model_module": "@jupyter-widgets/controls",
            "_model_module_version": "1.5.0",
            "_model_name": "ProgressStyleModel",
            "_view_count": null,
            "_view_module": "@jupyter-widgets/base",
            "_view_module_version": "1.2.0",
            "_view_name": "StyleView",
            "bar_color": null,
            "description_width": ""
          }
        },
        "e2ca4bc6fb8c43bea200356fdc5be9c9": {
          "model_module": "@jupyter-widgets/base",
          "model_name": "LayoutModel",
          "model_module_version": "1.2.0",
          "state": {
            "_model_module": "@jupyter-widgets/base",
            "_model_module_version": "1.2.0",
            "_model_name": "LayoutModel",
            "_view_count": null,
            "_view_module": "@jupyter-widgets/base",
            "_view_module_version": "1.2.0",
            "_view_name": "LayoutView",
            "align_content": null,
            "align_items": null,
            "align_self": null,
            "border": null,
            "bottom": null,
            "display": null,
            "flex": null,
            "flex_flow": null,
            "grid_area": null,
            "grid_auto_columns": null,
            "grid_auto_flow": null,
            "grid_auto_rows": null,
            "grid_column": null,
            "grid_gap": null,
            "grid_row": null,
            "grid_template_areas": null,
            "grid_template_columns": null,
            "grid_template_rows": null,
            "height": null,
            "justify_content": null,
            "justify_items": null,
            "left": null,
            "margin": null,
            "max_height": null,
            "max_width": null,
            "min_height": null,
            "min_width": null,
            "object_fit": null,
            "object_position": null,
            "order": null,
            "overflow": null,
            "overflow_x": null,
            "overflow_y": null,
            "padding": null,
            "right": null,
            "top": null,
            "visibility": null,
            "width": null
          }
        },
        "1dbf24a3b95f4e74a3269114bdb529ff": {
          "model_module": "@jupyter-widgets/controls",
          "model_name": "DescriptionStyleModel",
          "model_module_version": "1.5.0",
          "state": {
            "_model_module": "@jupyter-widgets/controls",
            "_model_module_version": "1.5.0",
            "_model_name": "DescriptionStyleModel",
            "_view_count": null,
            "_view_module": "@jupyter-widgets/base",
            "_view_module_version": "1.2.0",
            "_view_name": "StyleView",
            "description_width": ""
          }
        },
        "80642e9d1abc453ebace5729597cad9b": {
          "model_module": "@jupyter-widgets/controls",
          "model_name": "HBoxModel",
          "model_module_version": "1.5.0",
          "state": {
            "_dom_classes": [],
            "_model_module": "@jupyter-widgets/controls",
            "_model_module_version": "1.5.0",
            "_model_name": "HBoxModel",
            "_view_count": null,
            "_view_module": "@jupyter-widgets/controls",
            "_view_module_version": "1.5.0",
            "_view_name": "HBoxView",
            "box_style": "",
            "children": [
              "IPY_MODEL_46b60dd94fda4718923f41d6b49b4306",
              "IPY_MODEL_a34df85a528d463b8cdec26ec9d7d3fe",
              "IPY_MODEL_cf15752800da475793d53428b3aaea52"
            ],
            "layout": "IPY_MODEL_638bb34f85e6442297c43cc66a9b0ef2"
          }
        },
        "46b60dd94fda4718923f41d6b49b4306": {
          "model_module": "@jupyter-widgets/controls",
          "model_name": "HTMLModel",
          "model_module_version": "1.5.0",
          "state": {
            "_dom_classes": [],
            "_model_module": "@jupyter-widgets/controls",
            "_model_module_version": "1.5.0",
            "_model_name": "HTMLModel",
            "_view_count": null,
            "_view_module": "@jupyter-widgets/controls",
            "_view_module_version": "1.5.0",
            "_view_name": "HTMLView",
            "description": "",
            "description_tooltip": null,
            "layout": "IPY_MODEL_42edf6c37d814224ac73e9648c1045c4",
            "placeholder": "​",
            "style": "IPY_MODEL_dc97baa113c74ed7997c6052d1e895f2",
            "value": ""
          }
        },
        "a34df85a528d463b8cdec26ec9d7d3fe": {
          "model_module": "@jupyter-widgets/controls",
          "model_name": "FloatProgressModel",
          "model_module_version": "1.5.0",
          "state": {
            "_dom_classes": [],
            "_model_module": "@jupyter-widgets/controls",
            "_model_module_version": "1.5.0",
            "_model_name": "FloatProgressModel",
            "_view_count": null,
            "_view_module": "@jupyter-widgets/controls",
            "_view_module_version": "1.5.0",
            "_view_name": "ProgressView",
            "bar_style": "success",
            "description": "",
            "description_tooltip": null,
            "layout": "IPY_MODEL_a4e1759cfacf43d2b92bac53e2eb64e5",
            "max": 1,
            "min": 0,
            "orientation": "horizontal",
            "style": "IPY_MODEL_3670fa4eca58448499f1d88e89d26855",
            "value": 1
          }
        },
        "cf15752800da475793d53428b3aaea52": {
          "model_module": "@jupyter-widgets/controls",
          "model_name": "HTMLModel",
          "model_module_version": "1.5.0",
          "state": {
            "_dom_classes": [],
            "_model_module": "@jupyter-widgets/controls",
            "_model_module_version": "1.5.0",
            "_model_name": "HTMLModel",
            "_view_count": null,
            "_view_module": "@jupyter-widgets/controls",
            "_view_module_version": "1.5.0",
            "_view_name": "HTMLView",
            "description": "",
            "description_tooltip": null,
            "layout": "IPY_MODEL_4bfab66600c84a55a37e74500634b636",
            "placeholder": "​",
            "style": "IPY_MODEL_b1f51fc2b0b04ea29e1f2e2b9f620c8b",
            "value": " 1797/? [2:18:08&lt;00:00,  8.41s/it, bound:88 nc:  1 ncall:5.9e+04 eff:3.2% logz-ratio=773.33+/-0.36 dlogz:0.001&gt;0.1]"
          }
        },
        "638bb34f85e6442297c43cc66a9b0ef2": {
          "model_module": "@jupyter-widgets/base",
          "model_name": "LayoutModel",
          "model_module_version": "1.2.0",
          "state": {
            "_model_module": "@jupyter-widgets/base",
            "_model_module_version": "1.2.0",
            "_model_name": "LayoutModel",
            "_view_count": null,
            "_view_module": "@jupyter-widgets/base",
            "_view_module_version": "1.2.0",
            "_view_name": "LayoutView",
            "align_content": null,
            "align_items": null,
            "align_self": null,
            "border": null,
            "bottom": null,
            "display": null,
            "flex": null,
            "flex_flow": null,
            "grid_area": null,
            "grid_auto_columns": null,
            "grid_auto_flow": null,
            "grid_auto_rows": null,
            "grid_column": null,
            "grid_gap": null,
            "grid_row": null,
            "grid_template_areas": null,
            "grid_template_columns": null,
            "grid_template_rows": null,
            "height": null,
            "justify_content": null,
            "justify_items": null,
            "left": null,
            "margin": null,
            "max_height": null,
            "max_width": null,
            "min_height": null,
            "min_width": null,
            "object_fit": null,
            "object_position": null,
            "order": null,
            "overflow": null,
            "overflow_x": null,
            "overflow_y": null,
            "padding": null,
            "right": null,
            "top": null,
            "visibility": null,
            "width": null
          }
        },
        "42edf6c37d814224ac73e9648c1045c4": {
          "model_module": "@jupyter-widgets/base",
          "model_name": "LayoutModel",
          "model_module_version": "1.2.0",
          "state": {
            "_model_module": "@jupyter-widgets/base",
            "_model_module_version": "1.2.0",
            "_model_name": "LayoutModel",
            "_view_count": null,
            "_view_module": "@jupyter-widgets/base",
            "_view_module_version": "1.2.0",
            "_view_name": "LayoutView",
            "align_content": null,
            "align_items": null,
            "align_self": null,
            "border": null,
            "bottom": null,
            "display": null,
            "flex": null,
            "flex_flow": null,
            "grid_area": null,
            "grid_auto_columns": null,
            "grid_auto_flow": null,
            "grid_auto_rows": null,
            "grid_column": null,
            "grid_gap": null,
            "grid_row": null,
            "grid_template_areas": null,
            "grid_template_columns": null,
            "grid_template_rows": null,
            "height": null,
            "justify_content": null,
            "justify_items": null,
            "left": null,
            "margin": null,
            "max_height": null,
            "max_width": null,
            "min_height": null,
            "min_width": null,
            "object_fit": null,
            "object_position": null,
            "order": null,
            "overflow": null,
            "overflow_x": null,
            "overflow_y": null,
            "padding": null,
            "right": null,
            "top": null,
            "visibility": null,
            "width": null
          }
        },
        "dc97baa113c74ed7997c6052d1e895f2": {
          "model_module": "@jupyter-widgets/controls",
          "model_name": "DescriptionStyleModel",
          "model_module_version": "1.5.0",
          "state": {
            "_model_module": "@jupyter-widgets/controls",
            "_model_module_version": "1.5.0",
            "_model_name": "DescriptionStyleModel",
            "_view_count": null,
            "_view_module": "@jupyter-widgets/base",
            "_view_module_version": "1.2.0",
            "_view_name": "StyleView",
            "description_width": ""
          }
        },
        "a4e1759cfacf43d2b92bac53e2eb64e5": {
          "model_module": "@jupyter-widgets/base",
          "model_name": "LayoutModel",
          "model_module_version": "1.2.0",
          "state": {
            "_model_module": "@jupyter-widgets/base",
            "_model_module_version": "1.2.0",
            "_model_name": "LayoutModel",
            "_view_count": null,
            "_view_module": "@jupyter-widgets/base",
            "_view_module_version": "1.2.0",
            "_view_name": "LayoutView",
            "align_content": null,
            "align_items": null,
            "align_self": null,
            "border": null,
            "bottom": null,
            "display": null,
            "flex": null,
            "flex_flow": null,
            "grid_area": null,
            "grid_auto_columns": null,
            "grid_auto_flow": null,
            "grid_auto_rows": null,
            "grid_column": null,
            "grid_gap": null,
            "grid_row": null,
            "grid_template_areas": null,
            "grid_template_columns": null,
            "grid_template_rows": null,
            "height": null,
            "justify_content": null,
            "justify_items": null,
            "left": null,
            "margin": null,
            "max_height": null,
            "max_width": null,
            "min_height": null,
            "min_width": null,
            "object_fit": null,
            "object_position": null,
            "order": null,
            "overflow": null,
            "overflow_x": null,
            "overflow_y": null,
            "padding": null,
            "right": null,
            "top": null,
            "visibility": null,
            "width": "20px"
          }
        },
        "3670fa4eca58448499f1d88e89d26855": {
          "model_module": "@jupyter-widgets/controls",
          "model_name": "ProgressStyleModel",
          "model_module_version": "1.5.0",
          "state": {
            "_model_module": "@jupyter-widgets/controls",
            "_model_module_version": "1.5.0",
            "_model_name": "ProgressStyleModel",
            "_view_count": null,
            "_view_module": "@jupyter-widgets/base",
            "_view_module_version": "1.2.0",
            "_view_name": "StyleView",
            "bar_color": null,
            "description_width": ""
          }
        },
        "4bfab66600c84a55a37e74500634b636": {
          "model_module": "@jupyter-widgets/base",
          "model_name": "LayoutModel",
          "model_module_version": "1.2.0",
          "state": {
            "_model_module": "@jupyter-widgets/base",
            "_model_module_version": "1.2.0",
            "_model_name": "LayoutModel",
            "_view_count": null,
            "_view_module": "@jupyter-widgets/base",
            "_view_module_version": "1.2.0",
            "_view_name": "LayoutView",
            "align_content": null,
            "align_items": null,
            "align_self": null,
            "border": null,
            "bottom": null,
            "display": null,
            "flex": null,
            "flex_flow": null,
            "grid_area": null,
            "grid_auto_columns": null,
            "grid_auto_flow": null,
            "grid_auto_rows": null,
            "grid_column": null,
            "grid_gap": null,
            "grid_row": null,
            "grid_template_areas": null,
            "grid_template_columns": null,
            "grid_template_rows": null,
            "height": null,
            "justify_content": null,
            "justify_items": null,
            "left": null,
            "margin": null,
            "max_height": null,
            "max_width": null,
            "min_height": null,
            "min_width": null,
            "object_fit": null,
            "object_position": null,
            "order": null,
            "overflow": null,
            "overflow_x": null,
            "overflow_y": null,
            "padding": null,
            "right": null,
            "top": null,
            "visibility": null,
            "width": null
          }
        },
        "b1f51fc2b0b04ea29e1f2e2b9f620c8b": {
          "model_module": "@jupyter-widgets/controls",
          "model_name": "DescriptionStyleModel",
          "model_module_version": "1.5.0",
          "state": {
            "_model_module": "@jupyter-widgets/controls",
            "_model_module_version": "1.5.0",
            "_model_name": "DescriptionStyleModel",
            "_view_count": null,
            "_view_module": "@jupyter-widgets/base",
            "_view_module_version": "1.2.0",
            "_view_name": "StyleView",
            "description_width": ""
          }
        },
        "77a2b386b87c4201a4dd1752c38ea71c": {
          "model_module": "@jupyter-widgets/controls",
          "model_name": "HBoxModel",
          "model_module_version": "1.5.0",
          "state": {
            "_dom_classes": [],
            "_model_module": "@jupyter-widgets/controls",
            "_model_module_version": "1.5.0",
            "_model_name": "HBoxModel",
            "_view_count": null,
            "_view_module": "@jupyter-widgets/controls",
            "_view_module_version": "1.5.0",
            "_view_name": "HBoxView",
            "box_style": "",
            "children": [
              "IPY_MODEL_6c19f789289242f3a09035ba4a5c1ddd",
              "IPY_MODEL_04545e92642647acb6259a2d69162454",
              "IPY_MODEL_84601287247748c68de252b737bbb964"
            ],
            "layout": "IPY_MODEL_b63f26dc5e664849b295b3424a463d1a"
          }
        },
        "6c19f789289242f3a09035ba4a5c1ddd": {
          "model_module": "@jupyter-widgets/controls",
          "model_name": "HTMLModel",
          "model_module_version": "1.5.0",
          "state": {
            "_dom_classes": [],
            "_model_module": "@jupyter-widgets/controls",
            "_model_module_version": "1.5.0",
            "_model_name": "HTMLModel",
            "_view_count": null,
            "_view_module": "@jupyter-widgets/controls",
            "_view_module_version": "1.5.0",
            "_view_name": "HTMLView",
            "description": "",
            "description_tooltip": null,
            "layout": "IPY_MODEL_e3adb7e6a7ff47799b02e15ba8ac36ba",
            "placeholder": "​",
            "style": "IPY_MODEL_02be83bf46504426a0f26f0804468f85",
            "value": ""
          }
        },
        "04545e92642647acb6259a2d69162454": {
          "model_module": "@jupyter-widgets/controls",
          "model_name": "FloatProgressModel",
          "model_module_version": "1.5.0",
          "state": {
            "_dom_classes": [],
            "_model_module": "@jupyter-widgets/controls",
            "_model_module_version": "1.5.0",
            "_model_name": "FloatProgressModel",
            "_view_count": null,
            "_view_module": "@jupyter-widgets/controls",
            "_view_module_version": "1.5.0",
            "_view_name": "ProgressView",
            "bar_style": "success",
            "description": "",
            "description_tooltip": null,
            "layout": "IPY_MODEL_0f82056c2f3e4e2baa8f0b7ff5ab3a66",
            "max": 1,
            "min": 0,
            "orientation": "horizontal",
            "style": "IPY_MODEL_877d05df716145df85ffb89add8f9ce6",
            "value": 1
          }
        },
        "84601287247748c68de252b737bbb964": {
          "model_module": "@jupyter-widgets/controls",
          "model_name": "HTMLModel",
          "model_module_version": "1.5.0",
          "state": {
            "_dom_classes": [],
            "_model_module": "@jupyter-widgets/controls",
            "_model_module_version": "1.5.0",
            "_model_name": "HTMLModel",
            "_view_count": null,
            "_view_module": "@jupyter-widgets/controls",
            "_view_module_version": "1.5.0",
            "_view_name": "HTMLView",
            "description": "",
            "description_tooltip": null,
            "layout": "IPY_MODEL_e9e75d7a27ef480cb0a9da6679830662",
            "placeholder": "​",
            "style": "IPY_MODEL_8ac031c09fad442fb78149f85d421765",
            "value": " 1565/? [1:41:02&lt;00:00,  5.95s/it, bound:68 nc: 56 ncall:4.5e+04 eff:3.5% logz-ratio=1165.88+/-0.32 dlogz:0.362&gt;0.1]"
          }
        },
        "b63f26dc5e664849b295b3424a463d1a": {
          "model_module": "@jupyter-widgets/base",
          "model_name": "LayoutModel",
          "model_module_version": "1.2.0",
          "state": {
            "_model_module": "@jupyter-widgets/base",
            "_model_module_version": "1.2.0",
            "_model_name": "LayoutModel",
            "_view_count": null,
            "_view_module": "@jupyter-widgets/base",
            "_view_module_version": "1.2.0",
            "_view_name": "LayoutView",
            "align_content": null,
            "align_items": null,
            "align_self": null,
            "border": null,
            "bottom": null,
            "display": null,
            "flex": null,
            "flex_flow": null,
            "grid_area": null,
            "grid_auto_columns": null,
            "grid_auto_flow": null,
            "grid_auto_rows": null,
            "grid_column": null,
            "grid_gap": null,
            "grid_row": null,
            "grid_template_areas": null,
            "grid_template_columns": null,
            "grid_template_rows": null,
            "height": null,
            "justify_content": null,
            "justify_items": null,
            "left": null,
            "margin": null,
            "max_height": null,
            "max_width": null,
            "min_height": null,
            "min_width": null,
            "object_fit": null,
            "object_position": null,
            "order": null,
            "overflow": null,
            "overflow_x": null,
            "overflow_y": null,
            "padding": null,
            "right": null,
            "top": null,
            "visibility": null,
            "width": null
          }
        },
        "e3adb7e6a7ff47799b02e15ba8ac36ba": {
          "model_module": "@jupyter-widgets/base",
          "model_name": "LayoutModel",
          "model_module_version": "1.2.0",
          "state": {
            "_model_module": "@jupyter-widgets/base",
            "_model_module_version": "1.2.0",
            "_model_name": "LayoutModel",
            "_view_count": null,
            "_view_module": "@jupyter-widgets/base",
            "_view_module_version": "1.2.0",
            "_view_name": "LayoutView",
            "align_content": null,
            "align_items": null,
            "align_self": null,
            "border": null,
            "bottom": null,
            "display": null,
            "flex": null,
            "flex_flow": null,
            "grid_area": null,
            "grid_auto_columns": null,
            "grid_auto_flow": null,
            "grid_auto_rows": null,
            "grid_column": null,
            "grid_gap": null,
            "grid_row": null,
            "grid_template_areas": null,
            "grid_template_columns": null,
            "grid_template_rows": null,
            "height": null,
            "justify_content": null,
            "justify_items": null,
            "left": null,
            "margin": null,
            "max_height": null,
            "max_width": null,
            "min_height": null,
            "min_width": null,
            "object_fit": null,
            "object_position": null,
            "order": null,
            "overflow": null,
            "overflow_x": null,
            "overflow_y": null,
            "padding": null,
            "right": null,
            "top": null,
            "visibility": null,
            "width": null
          }
        },
        "02be83bf46504426a0f26f0804468f85": {
          "model_module": "@jupyter-widgets/controls",
          "model_name": "DescriptionStyleModel",
          "model_module_version": "1.5.0",
          "state": {
            "_model_module": "@jupyter-widgets/controls",
            "_model_module_version": "1.5.0",
            "_model_name": "DescriptionStyleModel",
            "_view_count": null,
            "_view_module": "@jupyter-widgets/base",
            "_view_module_version": "1.2.0",
            "_view_name": "StyleView",
            "description_width": ""
          }
        },
        "0f82056c2f3e4e2baa8f0b7ff5ab3a66": {
          "model_module": "@jupyter-widgets/base",
          "model_name": "LayoutModel",
          "model_module_version": "1.2.0",
          "state": {
            "_model_module": "@jupyter-widgets/base",
            "_model_module_version": "1.2.0",
            "_model_name": "LayoutModel",
            "_view_count": null,
            "_view_module": "@jupyter-widgets/base",
            "_view_module_version": "1.2.0",
            "_view_name": "LayoutView",
            "align_content": null,
            "align_items": null,
            "align_self": null,
            "border": null,
            "bottom": null,
            "display": null,
            "flex": null,
            "flex_flow": null,
            "grid_area": null,
            "grid_auto_columns": null,
            "grid_auto_flow": null,
            "grid_auto_rows": null,
            "grid_column": null,
            "grid_gap": null,
            "grid_row": null,
            "grid_template_areas": null,
            "grid_template_columns": null,
            "grid_template_rows": null,
            "height": null,
            "justify_content": null,
            "justify_items": null,
            "left": null,
            "margin": null,
            "max_height": null,
            "max_width": null,
            "min_height": null,
            "min_width": null,
            "object_fit": null,
            "object_position": null,
            "order": null,
            "overflow": null,
            "overflow_x": null,
            "overflow_y": null,
            "padding": null,
            "right": null,
            "top": null,
            "visibility": null,
            "width": "20px"
          }
        },
        "877d05df716145df85ffb89add8f9ce6": {
          "model_module": "@jupyter-widgets/controls",
          "model_name": "ProgressStyleModel",
          "model_module_version": "1.5.0",
          "state": {
            "_model_module": "@jupyter-widgets/controls",
            "_model_module_version": "1.5.0",
            "_model_name": "ProgressStyleModel",
            "_view_count": null,
            "_view_module": "@jupyter-widgets/base",
            "_view_module_version": "1.2.0",
            "_view_name": "StyleView",
            "bar_color": null,
            "description_width": ""
          }
        },
        "e9e75d7a27ef480cb0a9da6679830662": {
          "model_module": "@jupyter-widgets/base",
          "model_name": "LayoutModel",
          "model_module_version": "1.2.0",
          "state": {
            "_model_module": "@jupyter-widgets/base",
            "_model_module_version": "1.2.0",
            "_model_name": "LayoutModel",
            "_view_count": null,
            "_view_module": "@jupyter-widgets/base",
            "_view_module_version": "1.2.0",
            "_view_name": "LayoutView",
            "align_content": null,
            "align_items": null,
            "align_self": null,
            "border": null,
            "bottom": null,
            "display": null,
            "flex": null,
            "flex_flow": null,
            "grid_area": null,
            "grid_auto_columns": null,
            "grid_auto_flow": null,
            "grid_auto_rows": null,
            "grid_column": null,
            "grid_gap": null,
            "grid_row": null,
            "grid_template_areas": null,
            "grid_template_columns": null,
            "grid_template_rows": null,
            "height": null,
            "justify_content": null,
            "justify_items": null,
            "left": null,
            "margin": null,
            "max_height": null,
            "max_width": null,
            "min_height": null,
            "min_width": null,
            "object_fit": null,
            "object_position": null,
            "order": null,
            "overflow": null,
            "overflow_x": null,
            "overflow_y": null,
            "padding": null,
            "right": null,
            "top": null,
            "visibility": null,
            "width": null
          }
        },
        "8ac031c09fad442fb78149f85d421765": {
          "model_module": "@jupyter-widgets/controls",
          "model_name": "DescriptionStyleModel",
          "model_module_version": "1.5.0",
          "state": {
            "_model_module": "@jupyter-widgets/controls",
            "_model_module_version": "1.5.0",
            "_model_name": "DescriptionStyleModel",
            "_view_count": null,
            "_view_module": "@jupyter-widgets/base",
            "_view_module_version": "1.2.0",
            "_view_name": "StyleView",
            "description_width": ""
          }
        }
      }
    }
  },
  "nbformat": 4,
  "nbformat_minor": 0
}